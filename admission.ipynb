{
  "cells": [
    {
      "cell_type": "code",
      "execution_count": 29,
      "id": "9cb5d1fc",
      "metadata": {
        "id": "9cb5d1fc",
        "colab": {
          "base_uri": "https://localhost:8080/"
        },
        "outputId": "f551e7a8-7506-4a7d-cd28-4950b73c47f5"
      },
      "outputs": [
        {
          "output_type": "stream",
          "name": "stdout",
          "text": [
            "Requirement already satisfied: optuna in /usr/local/lib/python3.12/dist-packages (4.5.0)\n",
            "Requirement already satisfied: alembic>=1.5.0 in /usr/local/lib/python3.12/dist-packages (from optuna) (1.17.0)\n",
            "Requirement already satisfied: colorlog in /usr/local/lib/python3.12/dist-packages (from optuna) (6.10.1)\n",
            "Requirement already satisfied: numpy in /usr/local/lib/python3.12/dist-packages (from optuna) (2.0.2)\n",
            "Requirement already satisfied: packaging>=20.0 in /usr/local/lib/python3.12/dist-packages (from optuna) (25.0)\n",
            "Requirement already satisfied: sqlalchemy>=1.4.2 in /usr/local/lib/python3.12/dist-packages (from optuna) (2.0.44)\n",
            "Requirement already satisfied: tqdm in /usr/local/lib/python3.12/dist-packages (from optuna) (4.67.1)\n",
            "Requirement already satisfied: PyYAML in /usr/local/lib/python3.12/dist-packages (from optuna) (6.0.3)\n",
            "Requirement already satisfied: Mako in /usr/local/lib/python3.12/dist-packages (from alembic>=1.5.0->optuna) (1.3.10)\n",
            "Requirement already satisfied: typing-extensions>=4.12 in /usr/local/lib/python3.12/dist-packages (from alembic>=1.5.0->optuna) (4.15.0)\n",
            "Requirement already satisfied: greenlet>=1 in /usr/local/lib/python3.12/dist-packages (from sqlalchemy>=1.4.2->optuna) (3.2.4)\n",
            "Requirement already satisfied: MarkupSafe>=0.9.2 in /usr/local/lib/python3.12/dist-packages (from Mako->alembic>=1.5.0->optuna) (3.0.3)\n"
          ]
        }
      ],
      "source": [
        "import numpy as np\n",
        "import pandas as pd\n",
        "import torch\n",
        "import matplotlib.pyplot as plt\n",
        "import torch.nn as nn\n",
        "!pip install optuna\n",
        "import optuna"
      ]
    },
    {
      "cell_type": "code",
      "source": [
        "url = \"https://raw.githubusercontent.com/PRABHAV-RA2011003011010/Graduate_Admission_Prediction/refs/heads/main/Admission_Predict.csv\"\n",
        "df = pd.read_csv(url)\n",
        "print(df.head())"
      ],
      "metadata": {
        "colab": {
          "base_uri": "https://localhost:8080/"
        },
        "id": "jPjOCxV8PrCx",
        "outputId": "f52f6abc-6350-493f-9a9b-45cb1ac25bf5"
      },
      "id": "jPjOCxV8PrCx",
      "execution_count": 3,
      "outputs": [
        {
          "output_type": "stream",
          "name": "stdout",
          "text": [
            "   Serial No.  GRE Score  TOEFL Score  University Rating  SOP  LOR   CGPA  \\\n",
            "0           1        337          118                  4  4.5   4.5  9.65   \n",
            "1           2        324          107                  4  4.0   4.5  8.87   \n",
            "2           3        316          104                  3  3.0   3.5  8.00   \n",
            "3           4        322          110                  3  3.5   2.5  8.67   \n",
            "4           5        314          103                  2  2.0   3.0  8.21   \n",
            "\n",
            "   Research  Chance of Admit   \n",
            "0         1              0.92  \n",
            "1         1              0.76  \n",
            "2         1              0.72  \n",
            "3         1              0.80  \n",
            "4         0              0.65  \n"
          ]
        }
      ]
    },
    {
      "cell_type": "code",
      "source": [
        "df.shape"
      ],
      "metadata": {
        "colab": {
          "base_uri": "https://localhost:8080/"
        },
        "id": "UhdWmvaLPrG_",
        "outputId": "d9c380cc-934c-4020-8adc-b9c871a6bdca"
      },
      "id": "UhdWmvaLPrG_",
      "execution_count": 4,
      "outputs": [
        {
          "output_type": "execute_result",
          "data": {
            "text/plain": [
              "(400, 9)"
            ]
          },
          "metadata": {},
          "execution_count": 4
        }
      ]
    },
    {
      "cell_type": "code",
      "source": [
        "df.info()"
      ],
      "metadata": {
        "colab": {
          "base_uri": "https://localhost:8080/"
        },
        "id": "kqKuarwEQzCT",
        "outputId": "13d0608a-4727-43b7-e418-8b9d5a793660"
      },
      "id": "kqKuarwEQzCT",
      "execution_count": 5,
      "outputs": [
        {
          "output_type": "stream",
          "name": "stdout",
          "text": [
            "<class 'pandas.core.frame.DataFrame'>\n",
            "RangeIndex: 400 entries, 0 to 399\n",
            "Data columns (total 9 columns):\n",
            " #   Column             Non-Null Count  Dtype  \n",
            "---  ------             --------------  -----  \n",
            " 0   Serial No.         400 non-null    int64  \n",
            " 1   GRE Score          400 non-null    int64  \n",
            " 2   TOEFL Score        400 non-null    int64  \n",
            " 3   University Rating  400 non-null    int64  \n",
            " 4   SOP                400 non-null    float64\n",
            " 5   LOR                400 non-null    float64\n",
            " 6   CGPA               400 non-null    float64\n",
            " 7   Research           400 non-null    int64  \n",
            " 8   Chance of Admit    400 non-null    float64\n",
            "dtypes: float64(4), int64(5)\n",
            "memory usage: 28.3 KB\n"
          ]
        }
      ]
    },
    {
      "cell_type": "code",
      "source": [
        "df.duplicated().sum()"
      ],
      "metadata": {
        "colab": {
          "base_uri": "https://localhost:8080/"
        },
        "id": "8X4rwq-wQzF9",
        "outputId": "54cd9979-db2e-40ed-dddb-3b842f0e59c6"
      },
      "id": "8X4rwq-wQzF9",
      "execution_count": 6,
      "outputs": [
        {
          "output_type": "execute_result",
          "data": {
            "text/plain": [
              "np.int64(0)"
            ]
          },
          "metadata": {},
          "execution_count": 6
        }
      ]
    },
    {
      "cell_type": "code",
      "source": [
        "df.drop(columns=['Serial No.'],inplace=True)"
      ],
      "metadata": {
        "id": "45qn9U7lQzIe"
      },
      "id": "45qn9U7lQzIe",
      "execution_count": 7,
      "outputs": []
    },
    {
      "cell_type": "code",
      "source": [
        "df.head()"
      ],
      "metadata": {
        "colab": {
          "base_uri": "https://localhost:8080/",
          "height": 206
        },
        "id": "1Ky5HAPGQzLN",
        "outputId": "9834760d-3a50-414c-cb60-070c5dd9fb19"
      },
      "id": "1Ky5HAPGQzLN",
      "execution_count": 8,
      "outputs": [
        {
          "output_type": "execute_result",
          "data": {
            "text/plain": [
              "   GRE Score  TOEFL Score  University Rating  SOP  LOR   CGPA  Research  \\\n",
              "0        337          118                  4  4.5   4.5  9.65         1   \n",
              "1        324          107                  4  4.0   4.5  8.87         1   \n",
              "2        316          104                  3  3.0   3.5  8.00         1   \n",
              "3        322          110                  3  3.5   2.5  8.67         1   \n",
              "4        314          103                  2  2.0   3.0  8.21         0   \n",
              "\n",
              "   Chance of Admit   \n",
              "0              0.92  \n",
              "1              0.76  \n",
              "2              0.72  \n",
              "3              0.80  \n",
              "4              0.65  "
            ],
            "text/html": [
              "\n",
              "  <div id=\"df-07af8530-9451-44aa-94c0-c4a111990679\" class=\"colab-df-container\">\n",
              "    <div>\n",
              "<style scoped>\n",
              "    .dataframe tbody tr th:only-of-type {\n",
              "        vertical-align: middle;\n",
              "    }\n",
              "\n",
              "    .dataframe tbody tr th {\n",
              "        vertical-align: top;\n",
              "    }\n",
              "\n",
              "    .dataframe thead th {\n",
              "        text-align: right;\n",
              "    }\n",
              "</style>\n",
              "<table border=\"1\" class=\"dataframe\">\n",
              "  <thead>\n",
              "    <tr style=\"text-align: right;\">\n",
              "      <th></th>\n",
              "      <th>GRE Score</th>\n",
              "      <th>TOEFL Score</th>\n",
              "      <th>University Rating</th>\n",
              "      <th>SOP</th>\n",
              "      <th>LOR</th>\n",
              "      <th>CGPA</th>\n",
              "      <th>Research</th>\n",
              "      <th>Chance of Admit</th>\n",
              "    </tr>\n",
              "  </thead>\n",
              "  <tbody>\n",
              "    <tr>\n",
              "      <th>0</th>\n",
              "      <td>337</td>\n",
              "      <td>118</td>\n",
              "      <td>4</td>\n",
              "      <td>4.5</td>\n",
              "      <td>4.5</td>\n",
              "      <td>9.65</td>\n",
              "      <td>1</td>\n",
              "      <td>0.92</td>\n",
              "    </tr>\n",
              "    <tr>\n",
              "      <th>1</th>\n",
              "      <td>324</td>\n",
              "      <td>107</td>\n",
              "      <td>4</td>\n",
              "      <td>4.0</td>\n",
              "      <td>4.5</td>\n",
              "      <td>8.87</td>\n",
              "      <td>1</td>\n",
              "      <td>0.76</td>\n",
              "    </tr>\n",
              "    <tr>\n",
              "      <th>2</th>\n",
              "      <td>316</td>\n",
              "      <td>104</td>\n",
              "      <td>3</td>\n",
              "      <td>3.0</td>\n",
              "      <td>3.5</td>\n",
              "      <td>8.00</td>\n",
              "      <td>1</td>\n",
              "      <td>0.72</td>\n",
              "    </tr>\n",
              "    <tr>\n",
              "      <th>3</th>\n",
              "      <td>322</td>\n",
              "      <td>110</td>\n",
              "      <td>3</td>\n",
              "      <td>3.5</td>\n",
              "      <td>2.5</td>\n",
              "      <td>8.67</td>\n",
              "      <td>1</td>\n",
              "      <td>0.80</td>\n",
              "    </tr>\n",
              "    <tr>\n",
              "      <th>4</th>\n",
              "      <td>314</td>\n",
              "      <td>103</td>\n",
              "      <td>2</td>\n",
              "      <td>2.0</td>\n",
              "      <td>3.0</td>\n",
              "      <td>8.21</td>\n",
              "      <td>0</td>\n",
              "      <td>0.65</td>\n",
              "    </tr>\n",
              "  </tbody>\n",
              "</table>\n",
              "</div>\n",
              "    <div class=\"colab-df-buttons\">\n",
              "\n",
              "  <div class=\"colab-df-container\">\n",
              "    <button class=\"colab-df-convert\" onclick=\"convertToInteractive('df-07af8530-9451-44aa-94c0-c4a111990679')\"\n",
              "            title=\"Convert this dataframe to an interactive table.\"\n",
              "            style=\"display:none;\">\n",
              "\n",
              "  <svg xmlns=\"http://www.w3.org/2000/svg\" height=\"24px\" viewBox=\"0 -960 960 960\">\n",
              "    <path d=\"M120-120v-720h720v720H120Zm60-500h600v-160H180v160Zm220 220h160v-160H400v160Zm0 220h160v-160H400v160ZM180-400h160v-160H180v160Zm440 0h160v-160H620v160ZM180-180h160v-160H180v160Zm440 0h160v-160H620v160Z\"/>\n",
              "  </svg>\n",
              "    </button>\n",
              "\n",
              "  <style>\n",
              "    .colab-df-container {\n",
              "      display:flex;\n",
              "      gap: 12px;\n",
              "    }\n",
              "\n",
              "    .colab-df-convert {\n",
              "      background-color: #E8F0FE;\n",
              "      border: none;\n",
              "      border-radius: 50%;\n",
              "      cursor: pointer;\n",
              "      display: none;\n",
              "      fill: #1967D2;\n",
              "      height: 32px;\n",
              "      padding: 0 0 0 0;\n",
              "      width: 32px;\n",
              "    }\n",
              "\n",
              "    .colab-df-convert:hover {\n",
              "      background-color: #E2EBFA;\n",
              "      box-shadow: 0px 1px 2px rgba(60, 64, 67, 0.3), 0px 1px 3px 1px rgba(60, 64, 67, 0.15);\n",
              "      fill: #174EA6;\n",
              "    }\n",
              "\n",
              "    .colab-df-buttons div {\n",
              "      margin-bottom: 4px;\n",
              "    }\n",
              "\n",
              "    [theme=dark] .colab-df-convert {\n",
              "      background-color: #3B4455;\n",
              "      fill: #D2E3FC;\n",
              "    }\n",
              "\n",
              "    [theme=dark] .colab-df-convert:hover {\n",
              "      background-color: #434B5C;\n",
              "      box-shadow: 0px 1px 3px 1px rgba(0, 0, 0, 0.15);\n",
              "      filter: drop-shadow(0px 1px 2px rgba(0, 0, 0, 0.3));\n",
              "      fill: #FFFFFF;\n",
              "    }\n",
              "  </style>\n",
              "\n",
              "    <script>\n",
              "      const buttonEl =\n",
              "        document.querySelector('#df-07af8530-9451-44aa-94c0-c4a111990679 button.colab-df-convert');\n",
              "      buttonEl.style.display =\n",
              "        google.colab.kernel.accessAllowed ? 'block' : 'none';\n",
              "\n",
              "      async function convertToInteractive(key) {\n",
              "        const element = document.querySelector('#df-07af8530-9451-44aa-94c0-c4a111990679');\n",
              "        const dataTable =\n",
              "          await google.colab.kernel.invokeFunction('convertToInteractive',\n",
              "                                                    [key], {});\n",
              "        if (!dataTable) return;\n",
              "\n",
              "        const docLinkHtml = 'Like what you see? Visit the ' +\n",
              "          '<a target=\"_blank\" href=https://colab.research.google.com/notebooks/data_table.ipynb>data table notebook</a>'\n",
              "          + ' to learn more about interactive tables.';\n",
              "        element.innerHTML = '';\n",
              "        dataTable['output_type'] = 'display_data';\n",
              "        await google.colab.output.renderOutput(dataTable, element);\n",
              "        const docLink = document.createElement('div');\n",
              "        docLink.innerHTML = docLinkHtml;\n",
              "        element.appendChild(docLink);\n",
              "      }\n",
              "    </script>\n",
              "  </div>\n",
              "\n",
              "\n",
              "    <div id=\"df-b4d58ed1-15fd-4631-8761-7a1926010994\">\n",
              "      <button class=\"colab-df-quickchart\" onclick=\"quickchart('df-b4d58ed1-15fd-4631-8761-7a1926010994')\"\n",
              "                title=\"Suggest charts\"\n",
              "                style=\"display:none;\">\n",
              "\n",
              "<svg xmlns=\"http://www.w3.org/2000/svg\" height=\"24px\"viewBox=\"0 0 24 24\"\n",
              "     width=\"24px\">\n",
              "    <g>\n",
              "        <path d=\"M19 3H5c-1.1 0-2 .9-2 2v14c0 1.1.9 2 2 2h14c1.1 0 2-.9 2-2V5c0-1.1-.9-2-2-2zM9 17H7v-7h2v7zm4 0h-2V7h2v10zm4 0h-2v-4h2v4z\"/>\n",
              "    </g>\n",
              "</svg>\n",
              "      </button>\n",
              "\n",
              "<style>\n",
              "  .colab-df-quickchart {\n",
              "      --bg-color: #E8F0FE;\n",
              "      --fill-color: #1967D2;\n",
              "      --hover-bg-color: #E2EBFA;\n",
              "      --hover-fill-color: #174EA6;\n",
              "      --disabled-fill-color: #AAA;\n",
              "      --disabled-bg-color: #DDD;\n",
              "  }\n",
              "\n",
              "  [theme=dark] .colab-df-quickchart {\n",
              "      --bg-color: #3B4455;\n",
              "      --fill-color: #D2E3FC;\n",
              "      --hover-bg-color: #434B5C;\n",
              "      --hover-fill-color: #FFFFFF;\n",
              "      --disabled-bg-color: #3B4455;\n",
              "      --disabled-fill-color: #666;\n",
              "  }\n",
              "\n",
              "  .colab-df-quickchart {\n",
              "    background-color: var(--bg-color);\n",
              "    border: none;\n",
              "    border-radius: 50%;\n",
              "    cursor: pointer;\n",
              "    display: none;\n",
              "    fill: var(--fill-color);\n",
              "    height: 32px;\n",
              "    padding: 0;\n",
              "    width: 32px;\n",
              "  }\n",
              "\n",
              "  .colab-df-quickchart:hover {\n",
              "    background-color: var(--hover-bg-color);\n",
              "    box-shadow: 0 1px 2px rgba(60, 64, 67, 0.3), 0 1px 3px 1px rgba(60, 64, 67, 0.15);\n",
              "    fill: var(--button-hover-fill-color);\n",
              "  }\n",
              "\n",
              "  .colab-df-quickchart-complete:disabled,\n",
              "  .colab-df-quickchart-complete:disabled:hover {\n",
              "    background-color: var(--disabled-bg-color);\n",
              "    fill: var(--disabled-fill-color);\n",
              "    box-shadow: none;\n",
              "  }\n",
              "\n",
              "  .colab-df-spinner {\n",
              "    border: 2px solid var(--fill-color);\n",
              "    border-color: transparent;\n",
              "    border-bottom-color: var(--fill-color);\n",
              "    animation:\n",
              "      spin 1s steps(1) infinite;\n",
              "  }\n",
              "\n",
              "  @keyframes spin {\n",
              "    0% {\n",
              "      border-color: transparent;\n",
              "      border-bottom-color: var(--fill-color);\n",
              "      border-left-color: var(--fill-color);\n",
              "    }\n",
              "    20% {\n",
              "      border-color: transparent;\n",
              "      border-left-color: var(--fill-color);\n",
              "      border-top-color: var(--fill-color);\n",
              "    }\n",
              "    30% {\n",
              "      border-color: transparent;\n",
              "      border-left-color: var(--fill-color);\n",
              "      border-top-color: var(--fill-color);\n",
              "      border-right-color: var(--fill-color);\n",
              "    }\n",
              "    40% {\n",
              "      border-color: transparent;\n",
              "      border-right-color: var(--fill-color);\n",
              "      border-top-color: var(--fill-color);\n",
              "    }\n",
              "    60% {\n",
              "      border-color: transparent;\n",
              "      border-right-color: var(--fill-color);\n",
              "    }\n",
              "    80% {\n",
              "      border-color: transparent;\n",
              "      border-right-color: var(--fill-color);\n",
              "      border-bottom-color: var(--fill-color);\n",
              "    }\n",
              "    90% {\n",
              "      border-color: transparent;\n",
              "      border-bottom-color: var(--fill-color);\n",
              "    }\n",
              "  }\n",
              "</style>\n",
              "\n",
              "      <script>\n",
              "        async function quickchart(key) {\n",
              "          const quickchartButtonEl =\n",
              "            document.querySelector('#' + key + ' button');\n",
              "          quickchartButtonEl.disabled = true;  // To prevent multiple clicks.\n",
              "          quickchartButtonEl.classList.add('colab-df-spinner');\n",
              "          try {\n",
              "            const charts = await google.colab.kernel.invokeFunction(\n",
              "                'suggestCharts', [key], {});\n",
              "          } catch (error) {\n",
              "            console.error('Error during call to suggestCharts:', error);\n",
              "          }\n",
              "          quickchartButtonEl.classList.remove('colab-df-spinner');\n",
              "          quickchartButtonEl.classList.add('colab-df-quickchart-complete');\n",
              "        }\n",
              "        (() => {\n",
              "          let quickchartButtonEl =\n",
              "            document.querySelector('#df-b4d58ed1-15fd-4631-8761-7a1926010994 button');\n",
              "          quickchartButtonEl.style.display =\n",
              "            google.colab.kernel.accessAllowed ? 'block' : 'none';\n",
              "        })();\n",
              "      </script>\n",
              "    </div>\n",
              "\n",
              "    </div>\n",
              "  </div>\n"
            ],
            "application/vnd.google.colaboratory.intrinsic+json": {
              "type": "dataframe",
              "variable_name": "df",
              "summary": "{\n  \"name\": \"df\",\n  \"rows\": 400,\n  \"fields\": [\n    {\n      \"column\": \"GRE Score\",\n      \"properties\": {\n        \"dtype\": \"number\",\n        \"std\": 11,\n        \"min\": 290,\n        \"max\": 340,\n        \"num_unique_values\": 49,\n        \"samples\": [\n          307,\n          335,\n          297\n        ],\n        \"semantic_type\": \"\",\n        \"description\": \"\"\n      }\n    },\n    {\n      \"column\": \"TOEFL Score\",\n      \"properties\": {\n        \"dtype\": \"number\",\n        \"std\": 6,\n        \"min\": 92,\n        \"max\": 120,\n        \"num_unique_values\": 29,\n        \"samples\": [\n          94,\n          119,\n          112\n        ],\n        \"semantic_type\": \"\",\n        \"description\": \"\"\n      }\n    },\n    {\n      \"column\": \"University Rating\",\n      \"properties\": {\n        \"dtype\": \"number\",\n        \"std\": 1,\n        \"min\": 1,\n        \"max\": 5,\n        \"num_unique_values\": 5,\n        \"samples\": [\n          3,\n          1,\n          2\n        ],\n        \"semantic_type\": \"\",\n        \"description\": \"\"\n      }\n    },\n    {\n      \"column\": \"SOP\",\n      \"properties\": {\n        \"dtype\": \"number\",\n        \"std\": 1.0068686414586976,\n        \"min\": 1.0,\n        \"max\": 5.0,\n        \"num_unique_values\": 9,\n        \"samples\": [\n          1.0,\n          4.0,\n          5.0\n        ],\n        \"semantic_type\": \"\",\n        \"description\": \"\"\n      }\n    },\n    {\n      \"column\": \"LOR \",\n      \"properties\": {\n        \"dtype\": \"number\",\n        \"std\": 0.898477548279256,\n        \"min\": 1.0,\n        \"max\": 5.0,\n        \"num_unique_values\": 9,\n        \"samples\": [\n          5.0,\n          3.5,\n          1.5\n        ],\n        \"semantic_type\": \"\",\n        \"description\": \"\"\n      }\n    },\n    {\n      \"column\": \"CGPA\",\n      \"properties\": {\n        \"dtype\": \"number\",\n        \"std\": 0.5963170964964317,\n        \"min\": 6.8,\n        \"max\": 9.92,\n        \"num_unique_values\": 168,\n        \"samples\": [\n          8.15,\n          7.4,\n          9.91\n        ],\n        \"semantic_type\": \"\",\n        \"description\": \"\"\n      }\n    },\n    {\n      \"column\": \"Research\",\n      \"properties\": {\n        \"dtype\": \"number\",\n        \"std\": 0,\n        \"min\": 0,\n        \"max\": 1,\n        \"num_unique_values\": 2,\n        \"samples\": [\n          0,\n          1\n        ],\n        \"semantic_type\": \"\",\n        \"description\": \"\"\n      }\n    },\n    {\n      \"column\": \"Chance of Admit \",\n      \"properties\": {\n        \"dtype\": \"number\",\n        \"std\": 0.14260933017384092,\n        \"min\": 0.34,\n        \"max\": 0.97,\n        \"num_unique_values\": 60,\n        \"samples\": [\n          0.92,\n          0.9\n        ],\n        \"semantic_type\": \"\",\n        \"description\": \"\"\n      }\n    }\n  ]\n}"
            }
          },
          "metadata": {},
          "execution_count": 8
        }
      ]
    },
    {
      "cell_type": "code",
      "source": [
        "X=df.iloc[:,0:-1]\n",
        "Y=df.iloc[:,-1]"
      ],
      "metadata": {
        "id": "R8FsW3Z6QzNy"
      },
      "id": "R8FsW3Z6QzNy",
      "execution_count": 9,
      "outputs": []
    },
    {
      "cell_type": "code",
      "source": [
        "X"
      ],
      "metadata": {
        "colab": {
          "base_uri": "https://localhost:8080/",
          "height": 423
        },
        "id": "rEuAJGYaQzQ7",
        "outputId": "309bb048-8413-47ea-feda-a3cd3d5153e9"
      },
      "id": "rEuAJGYaQzQ7",
      "execution_count": 10,
      "outputs": [
        {
          "output_type": "execute_result",
          "data": {
            "text/plain": [
              "     GRE Score  TOEFL Score  University Rating  SOP  LOR   CGPA  Research\n",
              "0          337          118                  4  4.5   4.5  9.65         1\n",
              "1          324          107                  4  4.0   4.5  8.87         1\n",
              "2          316          104                  3  3.0   3.5  8.00         1\n",
              "3          322          110                  3  3.5   2.5  8.67         1\n",
              "4          314          103                  2  2.0   3.0  8.21         0\n",
              "..         ...          ...                ...  ...   ...   ...       ...\n",
              "395        324          110                  3  3.5   3.5  9.04         1\n",
              "396        325          107                  3  3.0   3.5  9.11         1\n",
              "397        330          116                  4  5.0   4.5  9.45         1\n",
              "398        312          103                  3  3.5   4.0  8.78         0\n",
              "399        333          117                  4  5.0   4.0  9.66         1\n",
              "\n",
              "[400 rows x 7 columns]"
            ],
            "text/html": [
              "\n",
              "  <div id=\"df-ef25e127-d96d-4ea9-a5ba-4aa10dfddf3f\" class=\"colab-df-container\">\n",
              "    <div>\n",
              "<style scoped>\n",
              "    .dataframe tbody tr th:only-of-type {\n",
              "        vertical-align: middle;\n",
              "    }\n",
              "\n",
              "    .dataframe tbody tr th {\n",
              "        vertical-align: top;\n",
              "    }\n",
              "\n",
              "    .dataframe thead th {\n",
              "        text-align: right;\n",
              "    }\n",
              "</style>\n",
              "<table border=\"1\" class=\"dataframe\">\n",
              "  <thead>\n",
              "    <tr style=\"text-align: right;\">\n",
              "      <th></th>\n",
              "      <th>GRE Score</th>\n",
              "      <th>TOEFL Score</th>\n",
              "      <th>University Rating</th>\n",
              "      <th>SOP</th>\n",
              "      <th>LOR</th>\n",
              "      <th>CGPA</th>\n",
              "      <th>Research</th>\n",
              "    </tr>\n",
              "  </thead>\n",
              "  <tbody>\n",
              "    <tr>\n",
              "      <th>0</th>\n",
              "      <td>337</td>\n",
              "      <td>118</td>\n",
              "      <td>4</td>\n",
              "      <td>4.5</td>\n",
              "      <td>4.5</td>\n",
              "      <td>9.65</td>\n",
              "      <td>1</td>\n",
              "    </tr>\n",
              "    <tr>\n",
              "      <th>1</th>\n",
              "      <td>324</td>\n",
              "      <td>107</td>\n",
              "      <td>4</td>\n",
              "      <td>4.0</td>\n",
              "      <td>4.5</td>\n",
              "      <td>8.87</td>\n",
              "      <td>1</td>\n",
              "    </tr>\n",
              "    <tr>\n",
              "      <th>2</th>\n",
              "      <td>316</td>\n",
              "      <td>104</td>\n",
              "      <td>3</td>\n",
              "      <td>3.0</td>\n",
              "      <td>3.5</td>\n",
              "      <td>8.00</td>\n",
              "      <td>1</td>\n",
              "    </tr>\n",
              "    <tr>\n",
              "      <th>3</th>\n",
              "      <td>322</td>\n",
              "      <td>110</td>\n",
              "      <td>3</td>\n",
              "      <td>3.5</td>\n",
              "      <td>2.5</td>\n",
              "      <td>8.67</td>\n",
              "      <td>1</td>\n",
              "    </tr>\n",
              "    <tr>\n",
              "      <th>4</th>\n",
              "      <td>314</td>\n",
              "      <td>103</td>\n",
              "      <td>2</td>\n",
              "      <td>2.0</td>\n",
              "      <td>3.0</td>\n",
              "      <td>8.21</td>\n",
              "      <td>0</td>\n",
              "    </tr>\n",
              "    <tr>\n",
              "      <th>...</th>\n",
              "      <td>...</td>\n",
              "      <td>...</td>\n",
              "      <td>...</td>\n",
              "      <td>...</td>\n",
              "      <td>...</td>\n",
              "      <td>...</td>\n",
              "      <td>...</td>\n",
              "    </tr>\n",
              "    <tr>\n",
              "      <th>395</th>\n",
              "      <td>324</td>\n",
              "      <td>110</td>\n",
              "      <td>3</td>\n",
              "      <td>3.5</td>\n",
              "      <td>3.5</td>\n",
              "      <td>9.04</td>\n",
              "      <td>1</td>\n",
              "    </tr>\n",
              "    <tr>\n",
              "      <th>396</th>\n",
              "      <td>325</td>\n",
              "      <td>107</td>\n",
              "      <td>3</td>\n",
              "      <td>3.0</td>\n",
              "      <td>3.5</td>\n",
              "      <td>9.11</td>\n",
              "      <td>1</td>\n",
              "    </tr>\n",
              "    <tr>\n",
              "      <th>397</th>\n",
              "      <td>330</td>\n",
              "      <td>116</td>\n",
              "      <td>4</td>\n",
              "      <td>5.0</td>\n",
              "      <td>4.5</td>\n",
              "      <td>9.45</td>\n",
              "      <td>1</td>\n",
              "    </tr>\n",
              "    <tr>\n",
              "      <th>398</th>\n",
              "      <td>312</td>\n",
              "      <td>103</td>\n",
              "      <td>3</td>\n",
              "      <td>3.5</td>\n",
              "      <td>4.0</td>\n",
              "      <td>8.78</td>\n",
              "      <td>0</td>\n",
              "    </tr>\n",
              "    <tr>\n",
              "      <th>399</th>\n",
              "      <td>333</td>\n",
              "      <td>117</td>\n",
              "      <td>4</td>\n",
              "      <td>5.0</td>\n",
              "      <td>4.0</td>\n",
              "      <td>9.66</td>\n",
              "      <td>1</td>\n",
              "    </tr>\n",
              "  </tbody>\n",
              "</table>\n",
              "<p>400 rows × 7 columns</p>\n",
              "</div>\n",
              "    <div class=\"colab-df-buttons\">\n",
              "\n",
              "  <div class=\"colab-df-container\">\n",
              "    <button class=\"colab-df-convert\" onclick=\"convertToInteractive('df-ef25e127-d96d-4ea9-a5ba-4aa10dfddf3f')\"\n",
              "            title=\"Convert this dataframe to an interactive table.\"\n",
              "            style=\"display:none;\">\n",
              "\n",
              "  <svg xmlns=\"http://www.w3.org/2000/svg\" height=\"24px\" viewBox=\"0 -960 960 960\">\n",
              "    <path d=\"M120-120v-720h720v720H120Zm60-500h600v-160H180v160Zm220 220h160v-160H400v160Zm0 220h160v-160H400v160ZM180-400h160v-160H180v160Zm440 0h160v-160H620v160ZM180-180h160v-160H180v160Zm440 0h160v-160H620v160Z\"/>\n",
              "  </svg>\n",
              "    </button>\n",
              "\n",
              "  <style>\n",
              "    .colab-df-container {\n",
              "      display:flex;\n",
              "      gap: 12px;\n",
              "    }\n",
              "\n",
              "    .colab-df-convert {\n",
              "      background-color: #E8F0FE;\n",
              "      border: none;\n",
              "      border-radius: 50%;\n",
              "      cursor: pointer;\n",
              "      display: none;\n",
              "      fill: #1967D2;\n",
              "      height: 32px;\n",
              "      padding: 0 0 0 0;\n",
              "      width: 32px;\n",
              "    }\n",
              "\n",
              "    .colab-df-convert:hover {\n",
              "      background-color: #E2EBFA;\n",
              "      box-shadow: 0px 1px 2px rgba(60, 64, 67, 0.3), 0px 1px 3px 1px rgba(60, 64, 67, 0.15);\n",
              "      fill: #174EA6;\n",
              "    }\n",
              "\n",
              "    .colab-df-buttons div {\n",
              "      margin-bottom: 4px;\n",
              "    }\n",
              "\n",
              "    [theme=dark] .colab-df-convert {\n",
              "      background-color: #3B4455;\n",
              "      fill: #D2E3FC;\n",
              "    }\n",
              "\n",
              "    [theme=dark] .colab-df-convert:hover {\n",
              "      background-color: #434B5C;\n",
              "      box-shadow: 0px 1px 3px 1px rgba(0, 0, 0, 0.15);\n",
              "      filter: drop-shadow(0px 1px 2px rgba(0, 0, 0, 0.3));\n",
              "      fill: #FFFFFF;\n",
              "    }\n",
              "  </style>\n",
              "\n",
              "    <script>\n",
              "      const buttonEl =\n",
              "        document.querySelector('#df-ef25e127-d96d-4ea9-a5ba-4aa10dfddf3f button.colab-df-convert');\n",
              "      buttonEl.style.display =\n",
              "        google.colab.kernel.accessAllowed ? 'block' : 'none';\n",
              "\n",
              "      async function convertToInteractive(key) {\n",
              "        const element = document.querySelector('#df-ef25e127-d96d-4ea9-a5ba-4aa10dfddf3f');\n",
              "        const dataTable =\n",
              "          await google.colab.kernel.invokeFunction('convertToInteractive',\n",
              "                                                    [key], {});\n",
              "        if (!dataTable) return;\n",
              "\n",
              "        const docLinkHtml = 'Like what you see? Visit the ' +\n",
              "          '<a target=\"_blank\" href=https://colab.research.google.com/notebooks/data_table.ipynb>data table notebook</a>'\n",
              "          + ' to learn more about interactive tables.';\n",
              "        element.innerHTML = '';\n",
              "        dataTable['output_type'] = 'display_data';\n",
              "        await google.colab.output.renderOutput(dataTable, element);\n",
              "        const docLink = document.createElement('div');\n",
              "        docLink.innerHTML = docLinkHtml;\n",
              "        element.appendChild(docLink);\n",
              "      }\n",
              "    </script>\n",
              "  </div>\n",
              "\n",
              "\n",
              "    <div id=\"df-5e26c6b1-1c5f-4ba6-9457-75119cd82e8f\">\n",
              "      <button class=\"colab-df-quickchart\" onclick=\"quickchart('df-5e26c6b1-1c5f-4ba6-9457-75119cd82e8f')\"\n",
              "                title=\"Suggest charts\"\n",
              "                style=\"display:none;\">\n",
              "\n",
              "<svg xmlns=\"http://www.w3.org/2000/svg\" height=\"24px\"viewBox=\"0 0 24 24\"\n",
              "     width=\"24px\">\n",
              "    <g>\n",
              "        <path d=\"M19 3H5c-1.1 0-2 .9-2 2v14c0 1.1.9 2 2 2h14c1.1 0 2-.9 2-2V5c0-1.1-.9-2-2-2zM9 17H7v-7h2v7zm4 0h-2V7h2v10zm4 0h-2v-4h2v4z\"/>\n",
              "    </g>\n",
              "</svg>\n",
              "      </button>\n",
              "\n",
              "<style>\n",
              "  .colab-df-quickchart {\n",
              "      --bg-color: #E8F0FE;\n",
              "      --fill-color: #1967D2;\n",
              "      --hover-bg-color: #E2EBFA;\n",
              "      --hover-fill-color: #174EA6;\n",
              "      --disabled-fill-color: #AAA;\n",
              "      --disabled-bg-color: #DDD;\n",
              "  }\n",
              "\n",
              "  [theme=dark] .colab-df-quickchart {\n",
              "      --bg-color: #3B4455;\n",
              "      --fill-color: #D2E3FC;\n",
              "      --hover-bg-color: #434B5C;\n",
              "      --hover-fill-color: #FFFFFF;\n",
              "      --disabled-bg-color: #3B4455;\n",
              "      --disabled-fill-color: #666;\n",
              "  }\n",
              "\n",
              "  .colab-df-quickchart {\n",
              "    background-color: var(--bg-color);\n",
              "    border: none;\n",
              "    border-radius: 50%;\n",
              "    cursor: pointer;\n",
              "    display: none;\n",
              "    fill: var(--fill-color);\n",
              "    height: 32px;\n",
              "    padding: 0;\n",
              "    width: 32px;\n",
              "  }\n",
              "\n",
              "  .colab-df-quickchart:hover {\n",
              "    background-color: var(--hover-bg-color);\n",
              "    box-shadow: 0 1px 2px rgba(60, 64, 67, 0.3), 0 1px 3px 1px rgba(60, 64, 67, 0.15);\n",
              "    fill: var(--button-hover-fill-color);\n",
              "  }\n",
              "\n",
              "  .colab-df-quickchart-complete:disabled,\n",
              "  .colab-df-quickchart-complete:disabled:hover {\n",
              "    background-color: var(--disabled-bg-color);\n",
              "    fill: var(--disabled-fill-color);\n",
              "    box-shadow: none;\n",
              "  }\n",
              "\n",
              "  .colab-df-spinner {\n",
              "    border: 2px solid var(--fill-color);\n",
              "    border-color: transparent;\n",
              "    border-bottom-color: var(--fill-color);\n",
              "    animation:\n",
              "      spin 1s steps(1) infinite;\n",
              "  }\n",
              "\n",
              "  @keyframes spin {\n",
              "    0% {\n",
              "      border-color: transparent;\n",
              "      border-bottom-color: var(--fill-color);\n",
              "      border-left-color: var(--fill-color);\n",
              "    }\n",
              "    20% {\n",
              "      border-color: transparent;\n",
              "      border-left-color: var(--fill-color);\n",
              "      border-top-color: var(--fill-color);\n",
              "    }\n",
              "    30% {\n",
              "      border-color: transparent;\n",
              "      border-left-color: var(--fill-color);\n",
              "      border-top-color: var(--fill-color);\n",
              "      border-right-color: var(--fill-color);\n",
              "    }\n",
              "    40% {\n",
              "      border-color: transparent;\n",
              "      border-right-color: var(--fill-color);\n",
              "      border-top-color: var(--fill-color);\n",
              "    }\n",
              "    60% {\n",
              "      border-color: transparent;\n",
              "      border-right-color: var(--fill-color);\n",
              "    }\n",
              "    80% {\n",
              "      border-color: transparent;\n",
              "      border-right-color: var(--fill-color);\n",
              "      border-bottom-color: var(--fill-color);\n",
              "    }\n",
              "    90% {\n",
              "      border-color: transparent;\n",
              "      border-bottom-color: var(--fill-color);\n",
              "    }\n",
              "  }\n",
              "</style>\n",
              "\n",
              "      <script>\n",
              "        async function quickchart(key) {\n",
              "          const quickchartButtonEl =\n",
              "            document.querySelector('#' + key + ' button');\n",
              "          quickchartButtonEl.disabled = true;  // To prevent multiple clicks.\n",
              "          quickchartButtonEl.classList.add('colab-df-spinner');\n",
              "          try {\n",
              "            const charts = await google.colab.kernel.invokeFunction(\n",
              "                'suggestCharts', [key], {});\n",
              "          } catch (error) {\n",
              "            console.error('Error during call to suggestCharts:', error);\n",
              "          }\n",
              "          quickchartButtonEl.classList.remove('colab-df-spinner');\n",
              "          quickchartButtonEl.classList.add('colab-df-quickchart-complete');\n",
              "        }\n",
              "        (() => {\n",
              "          let quickchartButtonEl =\n",
              "            document.querySelector('#df-5e26c6b1-1c5f-4ba6-9457-75119cd82e8f button');\n",
              "          quickchartButtonEl.style.display =\n",
              "            google.colab.kernel.accessAllowed ? 'block' : 'none';\n",
              "        })();\n",
              "      </script>\n",
              "    </div>\n",
              "\n",
              "  <div id=\"id_eff077b3-68ee-47e0-9de7-74da4fd3481e\">\n",
              "    <style>\n",
              "      .colab-df-generate {\n",
              "        background-color: #E8F0FE;\n",
              "        border: none;\n",
              "        border-radius: 50%;\n",
              "        cursor: pointer;\n",
              "        display: none;\n",
              "        fill: #1967D2;\n",
              "        height: 32px;\n",
              "        padding: 0 0 0 0;\n",
              "        width: 32px;\n",
              "      }\n",
              "\n",
              "      .colab-df-generate:hover {\n",
              "        background-color: #E2EBFA;\n",
              "        box-shadow: 0px 1px 2px rgba(60, 64, 67, 0.3), 0px 1px 3px 1px rgba(60, 64, 67, 0.15);\n",
              "        fill: #174EA6;\n",
              "      }\n",
              "\n",
              "      [theme=dark] .colab-df-generate {\n",
              "        background-color: #3B4455;\n",
              "        fill: #D2E3FC;\n",
              "      }\n",
              "\n",
              "      [theme=dark] .colab-df-generate:hover {\n",
              "        background-color: #434B5C;\n",
              "        box-shadow: 0px 1px 3px 1px rgba(0, 0, 0, 0.15);\n",
              "        filter: drop-shadow(0px 1px 2px rgba(0, 0, 0, 0.3));\n",
              "        fill: #FFFFFF;\n",
              "      }\n",
              "    </style>\n",
              "    <button class=\"colab-df-generate\" onclick=\"generateWithVariable('X')\"\n",
              "            title=\"Generate code using this dataframe.\"\n",
              "            style=\"display:none;\">\n",
              "\n",
              "  <svg xmlns=\"http://www.w3.org/2000/svg\" height=\"24px\"viewBox=\"0 0 24 24\"\n",
              "       width=\"24px\">\n",
              "    <path d=\"M7,19H8.4L18.45,9,17,7.55,7,17.6ZM5,21V16.75L18.45,3.32a2,2,0,0,1,2.83,0l1.4,1.43a1.91,1.91,0,0,1,.58,1.4,1.91,1.91,0,0,1-.58,1.4L9.25,21ZM18.45,9,17,7.55Zm-12,3A5.31,5.31,0,0,0,4.9,8.1,5.31,5.31,0,0,0,1,6.5,5.31,5.31,0,0,0,4.9,4.9,5.31,5.31,0,0,0,6.5,1,5.31,5.31,0,0,0,8.1,4.9,5.31,5.31,0,0,0,12,6.5,5.46,5.46,0,0,0,6.5,12Z\"/>\n",
              "  </svg>\n",
              "    </button>\n",
              "    <script>\n",
              "      (() => {\n",
              "      const buttonEl =\n",
              "        document.querySelector('#id_eff077b3-68ee-47e0-9de7-74da4fd3481e button.colab-df-generate');\n",
              "      buttonEl.style.display =\n",
              "        google.colab.kernel.accessAllowed ? 'block' : 'none';\n",
              "\n",
              "      buttonEl.onclick = () => {\n",
              "        google.colab.notebook.generateWithVariable('X');\n",
              "      }\n",
              "      })();\n",
              "    </script>\n",
              "  </div>\n",
              "\n",
              "    </div>\n",
              "  </div>\n"
            ],
            "application/vnd.google.colaboratory.intrinsic+json": {
              "type": "dataframe",
              "variable_name": "X",
              "summary": "{\n  \"name\": \"X\",\n  \"rows\": 400,\n  \"fields\": [\n    {\n      \"column\": \"GRE Score\",\n      \"properties\": {\n        \"dtype\": \"number\",\n        \"std\": 11,\n        \"min\": 290,\n        \"max\": 340,\n        \"num_unique_values\": 49,\n        \"samples\": [\n          307,\n          335,\n          297\n        ],\n        \"semantic_type\": \"\",\n        \"description\": \"\"\n      }\n    },\n    {\n      \"column\": \"TOEFL Score\",\n      \"properties\": {\n        \"dtype\": \"number\",\n        \"std\": 6,\n        \"min\": 92,\n        \"max\": 120,\n        \"num_unique_values\": 29,\n        \"samples\": [\n          94,\n          119,\n          112\n        ],\n        \"semantic_type\": \"\",\n        \"description\": \"\"\n      }\n    },\n    {\n      \"column\": \"University Rating\",\n      \"properties\": {\n        \"dtype\": \"number\",\n        \"std\": 1,\n        \"min\": 1,\n        \"max\": 5,\n        \"num_unique_values\": 5,\n        \"samples\": [\n          3,\n          1,\n          2\n        ],\n        \"semantic_type\": \"\",\n        \"description\": \"\"\n      }\n    },\n    {\n      \"column\": \"SOP\",\n      \"properties\": {\n        \"dtype\": \"number\",\n        \"std\": 1.0068686414586976,\n        \"min\": 1.0,\n        \"max\": 5.0,\n        \"num_unique_values\": 9,\n        \"samples\": [\n          1.0,\n          4.0,\n          5.0\n        ],\n        \"semantic_type\": \"\",\n        \"description\": \"\"\n      }\n    },\n    {\n      \"column\": \"LOR \",\n      \"properties\": {\n        \"dtype\": \"number\",\n        \"std\": 0.898477548279256,\n        \"min\": 1.0,\n        \"max\": 5.0,\n        \"num_unique_values\": 9,\n        \"samples\": [\n          5.0,\n          3.5,\n          1.5\n        ],\n        \"semantic_type\": \"\",\n        \"description\": \"\"\n      }\n    },\n    {\n      \"column\": \"CGPA\",\n      \"properties\": {\n        \"dtype\": \"number\",\n        \"std\": 0.5963170964964317,\n        \"min\": 6.8,\n        \"max\": 9.92,\n        \"num_unique_values\": 168,\n        \"samples\": [\n          8.15,\n          7.4,\n          9.91\n        ],\n        \"semantic_type\": \"\",\n        \"description\": \"\"\n      }\n    },\n    {\n      \"column\": \"Research\",\n      \"properties\": {\n        \"dtype\": \"number\",\n        \"std\": 0,\n        \"min\": 0,\n        \"max\": 1,\n        \"num_unique_values\": 2,\n        \"samples\": [\n          0,\n          1\n        ],\n        \"semantic_type\": \"\",\n        \"description\": \"\"\n      }\n    }\n  ]\n}"
            }
          },
          "metadata": {},
          "execution_count": 10
        }
      ]
    },
    {
      "cell_type": "code",
      "source": [
        "Y"
      ],
      "metadata": {
        "colab": {
          "base_uri": "https://localhost:8080/",
          "height": 458
        },
        "id": "LuntSLeZREzr",
        "outputId": "eb7b0c80-4aac-4dd3-b2f5-5d1029c59009"
      },
      "id": "LuntSLeZREzr",
      "execution_count": 11,
      "outputs": [
        {
          "output_type": "execute_result",
          "data": {
            "text/plain": [
              "0      0.92\n",
              "1      0.76\n",
              "2      0.72\n",
              "3      0.80\n",
              "4      0.65\n",
              "       ... \n",
              "395    0.82\n",
              "396    0.84\n",
              "397    0.91\n",
              "398    0.67\n",
              "399    0.95\n",
              "Name: Chance of Admit , Length: 400, dtype: float64"
            ],
            "text/html": [
              "<div>\n",
              "<style scoped>\n",
              "    .dataframe tbody tr th:only-of-type {\n",
              "        vertical-align: middle;\n",
              "    }\n",
              "\n",
              "    .dataframe tbody tr th {\n",
              "        vertical-align: top;\n",
              "    }\n",
              "\n",
              "    .dataframe thead th {\n",
              "        text-align: right;\n",
              "    }\n",
              "</style>\n",
              "<table border=\"1\" class=\"dataframe\">\n",
              "  <thead>\n",
              "    <tr style=\"text-align: right;\">\n",
              "      <th></th>\n",
              "      <th>Chance of Admit</th>\n",
              "    </tr>\n",
              "  </thead>\n",
              "  <tbody>\n",
              "    <tr>\n",
              "      <th>0</th>\n",
              "      <td>0.92</td>\n",
              "    </tr>\n",
              "    <tr>\n",
              "      <th>1</th>\n",
              "      <td>0.76</td>\n",
              "    </tr>\n",
              "    <tr>\n",
              "      <th>2</th>\n",
              "      <td>0.72</td>\n",
              "    </tr>\n",
              "    <tr>\n",
              "      <th>3</th>\n",
              "      <td>0.80</td>\n",
              "    </tr>\n",
              "    <tr>\n",
              "      <th>4</th>\n",
              "      <td>0.65</td>\n",
              "    </tr>\n",
              "    <tr>\n",
              "      <th>...</th>\n",
              "      <td>...</td>\n",
              "    </tr>\n",
              "    <tr>\n",
              "      <th>395</th>\n",
              "      <td>0.82</td>\n",
              "    </tr>\n",
              "    <tr>\n",
              "      <th>396</th>\n",
              "      <td>0.84</td>\n",
              "    </tr>\n",
              "    <tr>\n",
              "      <th>397</th>\n",
              "      <td>0.91</td>\n",
              "    </tr>\n",
              "    <tr>\n",
              "      <th>398</th>\n",
              "      <td>0.67</td>\n",
              "    </tr>\n",
              "    <tr>\n",
              "      <th>399</th>\n",
              "      <td>0.95</td>\n",
              "    </tr>\n",
              "  </tbody>\n",
              "</table>\n",
              "<p>400 rows × 1 columns</p>\n",
              "</div><br><label><b>dtype:</b> float64</label>"
            ]
          },
          "metadata": {},
          "execution_count": 11
        }
      ]
    },
    {
      "cell_type": "code",
      "source": [
        "from sklearn.model_selection import train_test_split\n",
        "X_train,X_test,y_train,y_test=train_test_split(X,Y,test_size=0.2,random_state=1)"
      ],
      "metadata": {
        "id": "a6x4_X36RE3L"
      },
      "id": "a6x4_X36RE3L",
      "execution_count": 12,
      "outputs": []
    },
    {
      "cell_type": "code",
      "source": [
        "X_train.shape"
      ],
      "metadata": {
        "colab": {
          "base_uri": "https://localhost:8080/"
        },
        "id": "PgGduT4QRE7c",
        "outputId": "983be13c-fdfe-4cd3-e6b3-840ce4dc2601"
      },
      "id": "PgGduT4QRE7c",
      "execution_count": 13,
      "outputs": [
        {
          "output_type": "execute_result",
          "data": {
            "text/plain": [
              "(320, 7)"
            ]
          },
          "metadata": {},
          "execution_count": 13
        }
      ]
    },
    {
      "cell_type": "code",
      "source": [
        "from sklearn.preprocessing import MinMaxScaler\n",
        "scaler=MinMaxScaler()\n",
        "\n",
        "X_train_scaled= scaler.fit_transform(X_train)\n",
        "X_test_scaled=scaler.transform(X_test)"
      ],
      "metadata": {
        "id": "0qZeWmtaRE-6"
      },
      "id": "0qZeWmtaRE-6",
      "execution_count": 14,
      "outputs": []
    },
    {
      "cell_type": "code",
      "source": [
        "X_train_scaled[0]"
      ],
      "metadata": {
        "colab": {
          "base_uri": "https://localhost:8080/"
        },
        "id": "bnOJThf9RFCB",
        "outputId": "158baa33-1ad8-4e62-d5e5-f818abc3a762"
      },
      "id": "bnOJThf9RFCB",
      "execution_count": 15,
      "outputs": [
        {
          "output_type": "execute_result",
          "data": {
            "text/plain": [
              "array([0.22      , 0.17857143, 0.25      , 0.5       , 0.42857143,\n",
              "       0.25      , 1.        ])"
            ]
          },
          "metadata": {},
          "execution_count": 15
        }
      ]
    },
    {
      "cell_type": "markdown",
      "source": [
        "Covert Numpy arrays to Pytorch tensors"
      ],
      "metadata": {
        "id": "SBzxXhH0YDuy"
      },
      "id": "SBzxXhH0YDuy"
    },
    {
      "cell_type": "code",
      "source": [
        "X_train_tensor = torch.from_numpy(X_train.values.astype(np.float32))\n",
        "X_test_tensor = torch.from_numpy(X_test.values.astype(np.float32))\n",
        "y_train_tensor = torch.from_numpy(y_train.values.astype(np.float32))\n",
        "y_test_tensor = torch.from_numpy(y_test.values.astype(np.float32))"
      ],
      "metadata": {
        "id": "_Me8OkOrYDbS"
      },
      "id": "_Me8OkOrYDbS",
      "execution_count": 16,
      "outputs": []
    },
    {
      "cell_type": "code",
      "source": [
        "y_train_tensor"
      ],
      "metadata": {
        "colab": {
          "base_uri": "https://localhost:8080/"
        },
        "id": "2x5uqjQcYDVU",
        "outputId": "3209ea6b-de71-4192-a7a9-d353831346a9"
      },
      "id": "2x5uqjQcYDVU",
      "execution_count": 17,
      "outputs": [
        {
          "output_type": "execute_result",
          "data": {
            "text/plain": [
              "tensor([0.4400, 0.9500, 0.7100, 0.6200, 0.6400, 0.4700, 0.7300, 0.9600, 0.7100,\n",
              "        0.7800, 0.5200, 0.7300, 0.8000, 0.8100, 0.5300, 0.6200, 0.7000, 0.7900,\n",
              "        0.8700, 0.8900, 0.9200, 0.5700, 0.7300, 0.4400, 0.7400, 0.8400, 0.8400,\n",
              "        0.6400, 0.9000, 0.7400, 0.7100, 0.4700, 0.9000, 0.6300, 0.7500, 0.3800,\n",
              "        0.7200, 0.8000, 0.8400, 0.8200, 0.4800, 0.6400, 0.6200, 0.7500, 0.7300,\n",
              "        0.4200, 0.9400, 0.7800, 0.7000, 0.9500, 0.7100, 0.6400, 0.7200, 0.8900,\n",
              "        0.7000, 0.6800, 0.6400, 0.7700, 0.5700, 0.3400, 0.6100, 0.6700, 0.6100,\n",
              "        0.8000, 0.6900, 0.5600, 0.6200, 0.4500, 0.8900, 0.6600, 0.7700, 0.9200,\n",
              "        0.6900, 0.8800, 0.8200, 0.7500, 0.9400, 0.5200, 0.9300, 0.6400, 0.6800,\n",
              "        0.7100, 0.5600, 0.8100, 0.7000, 0.5300, 0.5700, 0.7300, 0.8700, 0.7000,\n",
              "        0.4700, 0.8400, 0.8000, 0.9300, 0.8600, 0.8300, 0.6200, 0.7100, 0.9400,\n",
              "        0.6100, 0.8500, 0.8100, 0.8200, 0.3900, 0.8000, 0.6200, 0.9200, 0.6100,\n",
              "        0.5200, 0.9100, 0.5400, 0.8500, 0.7700, 0.9300, 0.4900, 0.6500, 0.4600,\n",
              "        0.7100, 0.9400, 0.5000, 0.8600, 0.7900, 0.5700, 0.4300, 0.7500, 0.4600,\n",
              "        0.7400, 0.6400, 0.7100, 0.9100, 0.5800, 0.8200, 0.7300, 0.7800, 0.7900,\n",
              "        0.9000, 0.7300, 0.8800, 0.7300, 0.5600, 0.6500, 0.8400, 0.8600, 0.6900,\n",
              "        0.6100, 0.7600, 0.6200, 0.7100, 0.7800, 0.6400, 0.6200, 0.8800, 0.6300,\n",
              "        0.6400, 0.7500, 0.8900, 0.7200, 0.8200, 0.7400, 0.7400, 0.4600, 0.7000,\n",
              "        0.6400, 0.8100, 0.7800, 0.7200, 0.7200, 0.9600, 0.7100, 0.9700, 0.8100,\n",
              "        0.9300, 0.7200, 0.5700, 0.8900, 0.7900, 0.5600, 0.9500, 0.9100, 0.5900,\n",
              "        0.9400, 0.7400, 0.8500, 0.6400, 0.6500, 0.6100, 0.5600, 0.7100, 0.8600,\n",
              "        0.5900, 0.4700, 0.6600, 0.6800, 0.4700, 0.7000, 0.9000, 0.7700, 0.7000,\n",
              "        0.6800, 0.6900, 0.5700, 0.7600, 0.9600, 0.5800, 0.4800, 0.3600, 0.9400,\n",
              "        0.8400, 0.9600, 0.9700, 0.8600, 0.6300, 0.5200, 0.7700, 0.4800, 0.7900,\n",
              "        0.6000, 0.4600, 0.7900, 0.6400, 0.8100, 0.6400, 0.6300, 0.7200, 0.7300,\n",
              "        0.6400, 0.7000, 0.8900, 0.7900, 0.3800, 0.7200, 0.7800, 0.7000, 0.9300,\n",
              "        0.9000, 0.7500, 0.9400, 0.6900, 0.6500, 0.9000, 0.7400, 0.7600, 0.4600,\n",
              "        0.6600, 0.5900, 0.9700, 0.7300, 0.7200, 0.8200, 0.7600, 0.6500, 0.9200,\n",
              "        0.7900, 0.7700, 0.6700, 0.8500, 0.7800, 0.7100, 0.6700, 0.7400, 0.7900,\n",
              "        0.8100, 0.6300, 0.9400, 0.7300, 0.5200, 0.5400, 0.8600, 0.6800, 0.7200,\n",
              "        0.6900, 0.7600, 0.7400, 0.8700, 0.6800, 0.8000, 0.5100, 0.7800, 0.4900,\n",
              "        0.6500, 0.9400, 0.6600, 0.7900, 0.9100, 0.7500, 0.6800, 0.5400, 0.7600,\n",
              "        0.6700, 0.9400, 0.5800, 0.8000, 0.6800, 0.9000, 0.7200, 0.6400, 0.6500,\n",
              "        0.9300, 0.6800, 0.7600, 0.7000, 0.7100, 0.6800, 0.8500, 0.8900, 0.7200,\n",
              "        0.8000, 0.8600, 0.9600, 0.9200, 0.8000, 0.8300, 0.7900, 0.9700, 0.7700,\n",
              "        0.7900, 0.9300, 0.8400, 0.8800, 0.5800])"
            ]
          },
          "metadata": {},
          "execution_count": 17
        }
      ]
    },
    {
      "cell_type": "code",
      "source": [
        "y_train_tensor.shape"
      ],
      "metadata": {
        "colab": {
          "base_uri": "https://localhost:8080/"
        },
        "id": "UaXItdIjZsR_",
        "outputId": "762c0ed6-5900-460f-cce3-0af8b8809726"
      },
      "id": "UaXItdIjZsR_",
      "execution_count": 18,
      "outputs": [
        {
          "output_type": "execute_result",
          "data": {
            "text/plain": [
              "torch.Size([320])"
            ]
          },
          "metadata": {},
          "execution_count": 18
        }
      ]
    },
    {
      "cell_type": "markdown",
      "source": [
        "Pytorch Starts!!!"
      ],
      "metadata": {
        "id": "55i6zcrJRz3l"
      },
      "id": "55i6zcrJRz3l"
    },
    {
      "cell_type": "code",
      "source": [
        "#Dataset and DataLoader\n",
        "from torch.utils.data import Dataset,DataLoader"
      ],
      "metadata": {
        "id": "zL4VYhFd5rBT"
      },
      "id": "zL4VYhFd5rBT",
      "execution_count": 19,
      "outputs": []
    },
    {
      "cell_type": "code",
      "source": [
        "class CustomDataset(Dataset):\n",
        "\n",
        "  def __init__(self,x_tensor,y_tensor):\n",
        "    self.x=x_tensor\n",
        "    self.y=y_tensor\n",
        "\n",
        "  def __len__(self):\n",
        "    return len(self.x)\n",
        "\n",
        "  def __getitem__(self,index):\n",
        "    return (self.x[index],self.y[index])"
      ],
      "metadata": {
        "id": "WWiKu9wj6WTe"
      },
      "id": "WWiKu9wj6WTe",
      "execution_count": 20,
      "outputs": []
    },
    {
      "cell_type": "code",
      "source": [
        "train_dataset = CustomDataset(X_train_tensor,y_train_tensor)\n",
        "test_dataset = CustomDataset(X_test_tensor,y_test_tensor)"
      ],
      "metadata": {
        "id": "3y4aam1u7DSH"
      },
      "id": "3y4aam1u7DSH",
      "execution_count": 21,
      "outputs": []
    },
    {
      "cell_type": "code",
      "source": [
        "len(test_dataset)"
      ],
      "metadata": {
        "colab": {
          "base_uri": "https://localhost:8080/"
        },
        "id": "NAH2ow8J7K-I",
        "outputId": "ef2f4f4c-4877-45ae-a16a-8ef0d64dcee1"
      },
      "id": "NAH2ow8J7K-I",
      "execution_count": 22,
      "outputs": [
        {
          "output_type": "execute_result",
          "data": {
            "text/plain": [
              "80"
            ]
          },
          "metadata": {},
          "execution_count": 22
        }
      ]
    },
    {
      "cell_type": "code",
      "source": [
        "train_dataset[0]"
      ],
      "metadata": {
        "colab": {
          "base_uri": "https://localhost:8080/"
        },
        "id": "5I8acBMO7bsQ",
        "outputId": "10d0856d-071c-4a60-8e34-a01404239aa5"
      },
      "id": "5I8acBMO7bsQ",
      "execution_count": 23,
      "outputs": [
        {
          "output_type": "execute_result",
          "data": {
            "text/plain": [
              "(tensor([301.0000,  97.0000,   2.0000,   3.0000,   3.0000,   7.8800,   1.0000]),\n",
              " tensor(0.4400))"
            ]
          },
          "metadata": {},
          "execution_count": 23
        }
      ]
    },
    {
      "cell_type": "code",
      "source": [
        "batch_size=16\n",
        "train_loader = DataLoader(train_dataset, batch_size=batch_size, shuffle=True, pin_memory=True)\n",
        "test_loader = DataLoader(test_dataset, batch_size=batch_size, shuffle=False, pin_memory=True)"
      ],
      "metadata": {
        "id": "4QvpBrAD7s_n"
      },
      "id": "4QvpBrAD7s_n",
      "execution_count": 24,
      "outputs": []
    },
    {
      "cell_type": "code",
      "source": [
        "print(train_loader)"
      ],
      "metadata": {
        "colab": {
          "base_uri": "https://localhost:8080/"
        },
        "id": "PRCBFYoR-OCM",
        "outputId": "47bf41f9-88e5-45e3-d471-aca3aabd9165"
      },
      "id": "PRCBFYoR-OCM",
      "execution_count": 26,
      "outputs": [
        {
          "output_type": "stream",
          "name": "stdout",
          "text": [
            "<torch.utils.data.dataloader.DataLoader object at 0x7a69155a0560>\n"
          ]
        }
      ]
    },
    {
      "cell_type": "code",
      "source": [
        "for X,Y in train_loader:\n",
        "  print(X)\n",
        "  print(Y)\n",
        "  print(\".\"*50)"
      ],
      "metadata": {
        "collapsed": true,
        "colab": {
          "base_uri": "https://localhost:8080/"
        },
        "id": "TcRy80AQ70e2",
        "outputId": "765e27b3-9d0c-4588-981d-b3d231a8fd8f"
      },
      "id": "TcRy80AQ70e2",
      "execution_count": 27,
      "outputs": [
        {
          "output_type": "stream",
          "name": "stdout",
          "text": [
            "tensor([[320.0000, 120.0000,   3.0000,   4.0000,   4.5000,   9.1100,   0.0000],\n",
            "        [316.0000, 109.0000,   4.0000,   4.5000,   3.5000,   8.7600,   1.0000],\n",
            "        [319.0000, 108.0000,   2.0000,   2.5000,   3.0000,   8.7600,   0.0000],\n",
            "        [311.0000, 106.0000,   2.0000,   3.5000,   3.0000,   8.2600,   1.0000],\n",
            "        [309.0000, 106.0000,   2.0000,   2.5000,   2.5000,   8.0000,   0.0000],\n",
            "        [302.0000, 102.0000,   3.0000,   3.5000,   5.0000,   8.3300,   0.0000],\n",
            "        [332.0000, 118.0000,   5.0000,   5.0000,   5.0000,   9.6400,   1.0000],\n",
            "        [319.0000, 106.0000,   3.0000,   3.5000,   2.5000,   8.3300,   1.0000],\n",
            "        [328.0000, 115.0000,   4.0000,   4.5000,   4.0000,   9.1600,   1.0000],\n",
            "        [310.0000, 104.0000,   3.0000,   2.0000,   3.5000,   8.3700,   0.0000],\n",
            "        [322.0000, 110.0000,   5.0000,   5.0000,   4.0000,   9.1000,   1.0000],\n",
            "        [320.0000, 111.0000,   4.0000,   4.5000,   3.5000,   8.8700,   1.0000],\n",
            "        [334.0000, 120.0000,   5.0000,   4.0000,   5.0000,   9.8700,   1.0000],\n",
            "        [312.0000,  98.0000,   1.0000,   3.5000,   3.0000,   8.1800,   1.0000],\n",
            "        [313.0000, 107.0000,   2.0000,   2.5000,   2.0000,   8.5000,   1.0000],\n",
            "        [316.0000, 100.0000,   2.0000,   1.5000,   3.0000,   8.1600,   1.0000]])\n",
            "tensor([0.8600, 0.7400, 0.6600, 0.7900, 0.6200, 0.6500, 0.9400, 0.7400, 0.7800,\n",
            "        0.7000, 0.8800, 0.8500, 0.9700, 0.6400, 0.5300, 0.7100])\n",
            "..................................................\n",
            "tensor([[317.0000, 104.0000,   2.0000,   4.5000,   4.0000,   8.4700,   0.0000],\n",
            "        [326.0000, 112.0000,   3.0000,   3.5000,   3.0000,   9.1000,   1.0000],\n",
            "        [322.0000, 114.0000,   5.0000,   4.5000,   4.0000,   8.9400,   1.0000],\n",
            "        [311.0000, 104.0000,   3.0000,   4.5000,   4.5000,   8.4300,   0.0000],\n",
            "        [313.0000, 103.0000,   3.0000,   4.0000,   4.0000,   8.7500,   0.0000],\n",
            "        [334.0000, 116.0000,   4.0000,   4.0000,   3.0000,   8.0000,   1.0000],\n",
            "        [331.0000, 115.0000,   5.0000,   4.0000,   3.5000,   9.4400,   1.0000],\n",
            "        [308.0000, 110.0000,   3.0000,   3.5000,   3.0000,   8.0000,   1.0000],\n",
            "        [309.0000,  99.0000,   3.0000,   4.0000,   4.0000,   8.5600,   0.0000],\n",
            "        [314.0000, 105.0000,   3.0000,   3.5000,   2.5000,   8.3000,   0.0000],\n",
            "        [323.0000, 113.0000,   3.0000,   4.0000,   4.0000,   8.8800,   1.0000],\n",
            "        [335.0000, 118.0000,   5.0000,   4.5000,   3.5000,   9.4400,   1.0000],\n",
            "        [312.0000, 105.0000,   2.0000,   2.5000,   3.0000,   8.1200,   0.0000],\n",
            "        [324.0000, 111.0000,   3.0000,   2.5000,   2.0000,   8.8000,   1.0000],\n",
            "        [306.0000, 105.0000,   2.0000,   3.0000,   2.5000,   8.2600,   0.0000],\n",
            "        [325.0000, 107.0000,   3.0000,   3.0000,   3.5000,   9.1100,   1.0000]])\n",
            "tensor([0.5700, 0.8400, 0.8600, 0.7000, 0.7600, 0.7800, 0.9200, 0.4600, 0.7600,\n",
            "        0.5400, 0.7900, 0.9300, 0.6400, 0.7900, 0.7300, 0.8400])\n",
            "..................................................\n",
            "tensor([[314.0000, 108.0000,   4.0000,   4.5000,   4.0000,   9.0400,   1.0000],\n",
            "        [296.0000,  99.0000,   2.0000,   3.0000,   3.5000,   7.2800,   0.0000],\n",
            "        [327.0000, 103.0000,   3.0000,   4.0000,   4.0000,   8.3000,   1.0000],\n",
            "        [316.0000, 110.0000,   3.0000,   3.5000,   4.0000,   8.5600,   0.0000],\n",
            "        [314.0000, 107.0000,   2.0000,   2.5000,   4.0000,   8.5600,   0.0000],\n",
            "        [338.0000, 120.0000,   4.0000,   5.0000,   5.0000,   9.6600,   1.0000],\n",
            "        [317.0000, 106.0000,   3.0000,   4.0000,   3.5000,   8.5000,   1.0000],\n",
            "        [324.0000, 107.0000,   4.0000,   4.0000,   4.5000,   8.8700,   1.0000],\n",
            "        [321.0000, 112.0000,   5.0000,   5.0000,   5.0000,   9.0600,   1.0000],\n",
            "        [334.0000, 114.0000,   4.0000,   4.0000,   4.0000,   9.4300,   1.0000],\n",
            "        [312.0000, 100.0000,   2.0000,   1.5000,   3.5000,   7.9000,   1.0000],\n",
            "        [332.0000, 118.0000,   2.0000,   4.5000,   3.5000,   9.3600,   1.0000],\n",
            "        [299.0000, 102.0000,   3.0000,   4.0000,   3.5000,   8.6200,   0.0000],\n",
            "        [329.0000, 114.0000,   2.0000,   2.0000,   4.0000,   8.5600,   1.0000],\n",
            "        [320.0000, 110.0000,   5.0000,   5.0000,   5.0000,   9.2000,   1.0000],\n",
            "        [315.0000,  99.0000,   2.0000,   3.5000,   3.0000,   7.8900,   0.0000]])\n",
            "tensor([0.8400, 0.4700, 0.7400, 0.7500, 0.6300, 0.9500, 0.7500, 0.7600, 0.8600,\n",
            "        0.9300, 0.5600, 0.9000, 0.5600, 0.7200, 0.8800, 0.6300])\n",
            "..................................................\n",
            "tensor([[313.0000, 107.0000,   3.0000,   4.0000,   4.5000,   8.6900,   0.0000],\n",
            "        [312.0000, 107.0000,   4.0000,   4.5000,   4.0000,   8.6500,   1.0000],\n",
            "        [314.0000, 107.0000,   2.0000,   2.5000,   4.0000,   8.2700,   0.0000],\n",
            "        [314.0000, 109.0000,   4.0000,   3.5000,   4.0000,   8.7700,   1.0000],\n",
            "        [301.0000, 100.0000,   3.0000,   3.5000,   3.0000,   8.0400,   0.0000],\n",
            "        [312.0000, 106.0000,   3.0000,   4.0000,   3.5000,   8.7900,   1.0000],\n",
            "        [328.0000, 112.0000,   4.0000,   4.0000,   4.5000,   9.1000,   1.0000],\n",
            "        [331.0000, 120.0000,   3.0000,   4.0000,   4.0000,   8.9600,   1.0000],\n",
            "        [321.0000, 107.0000,   2.0000,   2.0000,   1.5000,   8.4400,   0.0000],\n",
            "        [318.0000, 112.0000,   3.0000,   4.0000,   3.5000,   8.6700,   0.0000],\n",
            "        [334.0000, 119.0000,   5.0000,   4.5000,   4.5000,   9.4800,   1.0000],\n",
            "        [338.0000, 118.0000,   4.0000,   3.0000,   4.5000,   9.4000,   1.0000],\n",
            "        [321.0000, 109.0000,   4.0000,   4.0000,   4.0000,   8.6800,   1.0000],\n",
            "        [303.0000, 105.0000,   5.0000,   5.0000,   4.5000,   8.6500,   0.0000],\n",
            "        [325.0000, 110.0000,   4.0000,   3.5000,   4.0000,   8.6700,   1.0000],\n",
            "        [324.0000, 100.0000,   3.0000,   4.0000,   5.0000,   8.6400,   1.0000]])\n",
            "tensor([0.7200, 0.7300, 0.7200, 0.8200, 0.6700, 0.8100, 0.7800, 0.8600, 0.8100,\n",
            "        0.7100, 0.9400, 0.9100, 0.6900, 0.7700, 0.7300, 0.7800])\n",
            "..................................................\n",
            "tensor([[340.0000, 113.0000,   4.0000,   5.0000,   5.0000,   9.7400,   1.0000],\n",
            "        [305.0000, 103.0000,   2.0000,   2.5000,   3.5000,   8.1300,   0.0000],\n",
            "        [318.0000, 109.0000,   3.0000,   3.5000,   4.0000,   9.2200,   1.0000],\n",
            "        [308.0000, 108.0000,   3.0000,   3.5000,   3.5000,   8.2200,   0.0000],\n",
            "        [332.0000, 118.0000,   5.0000,   5.0000,   5.0000,   9.4700,   1.0000],\n",
            "        [329.0000, 114.0000,   5.0000,   4.5000,   5.0000,   9.1900,   1.0000],\n",
            "        [325.0000, 114.0000,   4.0000,   3.0000,   2.0000,   8.4000,   0.0000],\n",
            "        [336.0000, 112.0000,   5.0000,   5.0000,   5.0000,   9.7600,   1.0000],\n",
            "        [326.0000, 111.0000,   5.0000,   4.5000,   4.0000,   9.2300,   1.0000],\n",
            "        [316.0000, 106.0000,   2.0000,   2.5000,   4.0000,   8.3200,   0.0000],\n",
            "        [325.0000, 111.0000,   4.0000,   4.0000,   4.5000,   9.1100,   1.0000],\n",
            "        [290.0000, 100.0000,   1.0000,   1.5000,   2.0000,   7.5600,   0.0000],\n",
            "        [305.0000, 108.0000,   5.0000,   3.0000,   3.0000,   8.4800,   0.0000],\n",
            "        [312.0000, 101.0000,   2.0000,   2.5000,   3.5000,   8.0400,   1.0000],\n",
            "        [319.0000, 108.0000,   3.0000,   3.0000,   3.5000,   8.5400,   1.0000],\n",
            "        [300.0000, 105.0000,   1.0000,   1.0000,   2.0000,   7.8000,   0.0000]])\n",
            "tensor([0.9600, 0.5900, 0.6800, 0.6100, 0.9400, 0.8600, 0.7000, 0.9600, 0.8800,\n",
            "        0.7200, 0.8300, 0.4700, 0.6100, 0.6800, 0.7100, 0.5800])\n",
            "..................................................\n",
            "tensor([[318.0000, 100.0000,   2.0000,   2.5000,   3.5000,   8.5400,   1.0000],\n",
            "        [313.0000, 109.0000,   3.0000,   4.0000,   3.5000,   9.0000,   0.0000],\n",
            "        [325.0000, 112.0000,   4.0000,   4.0000,   4.5000,   9.1700,   1.0000],\n",
            "        [293.0000,  97.0000,   2.0000,   2.0000,   4.0000,   7.8000,   1.0000],\n",
            "        [322.0000, 110.0000,   3.0000,   3.0000,   3.5000,   8.0000,   0.0000],\n",
            "        [301.0000, 107.0000,   3.0000,   3.5000,   3.5000,   8.3400,   1.0000],\n",
            "        [297.0000,  96.0000,   2.0000,   2.5000,   2.0000,   7.4300,   0.0000],\n",
            "        [325.0000, 114.0000,   3.0000,   3.5000,   3.0000,   9.0400,   1.0000],\n",
            "        [321.0000, 109.0000,   3.0000,   3.5000,   3.5000,   8.8000,   1.0000],\n",
            "        [304.0000, 103.0000,   5.0000,   5.0000,   4.0000,   8.6400,   0.0000],\n",
            "        [309.0000, 100.0000,   2.0000,   3.0000,   3.0000,   8.1000,   0.0000],\n",
            "        [314.0000, 104.0000,   4.0000,   5.0000,   5.0000,   9.0200,   0.0000],\n",
            "        [317.0000, 107.0000,   3.0000,   3.5000,   3.0000,   8.6800,   1.0000],\n",
            "        [312.0000, 107.0000,   3.0000,   3.0000,   3.0000,   8.4600,   1.0000],\n",
            "        [309.0000, 108.0000,   3.0000,   2.5000,   3.0000,   8.1200,   0.0000],\n",
            "        [315.0000, 105.0000,   2.0000,   2.0000,   2.5000,   7.6500,   0.0000]])\n",
            "tensor([0.7100, 0.7900, 0.8500, 0.6400, 0.7000, 0.6200, 0.3400, 0.7600, 0.7400,\n",
            "        0.6800, 0.4800, 0.8200, 0.8400, 0.7500, 0.7200, 0.3900])\n",
            "..................................................\n",
            "tensor([[308.0000, 108.0000,   4.0000,   4.5000,   5.0000,   8.3400,   0.0000],\n",
            "        [323.0000, 108.0000,   3.0000,   3.5000,   3.0000,   8.6000,   0.0000],\n",
            "        [340.0000, 120.0000,   5.0000,   4.5000,   4.5000,   9.9100,   1.0000],\n",
            "        [301.0000, 104.0000,   3.0000,   3.5000,   4.0000,   8.1200,   1.0000],\n",
            "        [339.0000, 114.0000,   5.0000,   4.0000,   4.5000,   9.7600,   1.0000],\n",
            "        [305.0000, 102.0000,   2.0000,   2.0000,   2.5000,   8.1800,   0.0000],\n",
            "        [332.0000, 117.0000,   4.0000,   4.5000,   4.0000,   9.1000,   0.0000],\n",
            "        [303.0000,  98.0000,   1.0000,   2.0000,   2.5000,   7.6500,   0.0000],\n",
            "        [297.0000,  96.0000,   2.0000,   2.5000,   1.5000,   7.8900,   0.0000],\n",
            "        [323.0000, 107.0000,   3.0000,   3.5000,   3.5000,   8.5500,   1.0000],\n",
            "        [326.0000, 112.0000,   3.0000,   3.5000,   3.0000,   9.0500,   1.0000],\n",
            "        [301.0000, 106.0000,   4.0000,   2.5000,   3.0000,   8.4700,   0.0000],\n",
            "        [340.0000, 120.0000,   5.0000,   4.5000,   4.5000,   9.6000,   1.0000],\n",
            "        [326.0000, 108.0000,   3.0000,   3.0000,   3.5000,   8.8900,   0.0000],\n",
            "        [316.0000, 101.0000,   2.0000,   2.5000,   2.0000,   8.3200,   1.0000],\n",
            "        [329.0000, 114.0000,   5.0000,   4.0000,   5.0000,   9.3000,   1.0000]])\n",
            "tensor([0.7700, 0.4500, 0.9700, 0.6800, 0.9600, 0.6200, 0.8700, 0.5600, 0.4300,\n",
            "        0.7300, 0.7400, 0.5700, 0.9400, 0.8000, 0.6100, 0.8600])\n",
            "..................................................\n",
            "tensor([[324.0000, 112.0000,   4.0000,   4.0000,   2.5000,   8.1000,   1.0000],\n",
            "        [332.0000, 119.0000,   4.0000,   5.0000,   4.5000,   9.2400,   1.0000],\n",
            "        [313.0000, 101.0000,   3.0000,   2.5000,   3.0000,   8.0400,   0.0000],\n",
            "        [314.0000, 107.0000,   3.0000,   3.0000,   3.5000,   8.1700,   1.0000],\n",
            "        [295.0000,  96.0000,   2.0000,   1.5000,   2.0000,   7.3400,   0.0000],\n",
            "        [323.0000, 110.0000,   5.0000,   4.0000,   5.0000,   8.9800,   1.0000],\n",
            "        [310.0000, 103.0000,   2.0000,   2.5000,   2.5000,   8.2400,   0.0000],\n",
            "        [297.0000, 100.0000,   1.0000,   1.5000,   2.0000,   7.9000,   0.0000],\n",
            "        [340.0000, 115.0000,   5.0000,   4.5000,   4.5000,   9.4500,   1.0000],\n",
            "        [333.0000, 118.0000,   5.0000,   5.0000,   5.0000,   9.3500,   1.0000],\n",
            "        [308.0000, 101.0000,   2.0000,   3.0000,   4.0000,   7.9000,   0.0000],\n",
            "        [329.0000, 111.0000,   4.0000,   4.5000,   4.0000,   9.0100,   1.0000],\n",
            "        [311.0000, 104.0000,   3.0000,   3.5000,   2.0000,   8.2000,   1.0000],\n",
            "        [340.0000, 120.0000,   4.0000,   4.5000,   4.0000,   9.9200,   1.0000],\n",
            "        [301.0000,  97.0000,   2.0000,   3.0000,   3.0000,   7.8800,   1.0000],\n",
            "        [326.0000, 110.0000,   3.0000,   3.5000,   3.5000,   8.7600,   1.0000]])\n",
            "tensor([0.7200, 0.9000, 0.6200, 0.7300, 0.4700, 0.8700, 0.7200, 0.5200, 0.9400,\n",
            "        0.9200, 0.6800, 0.8100, 0.6100, 0.9700, 0.4400, 0.7900])\n",
            "..................................................\n",
            "tensor([[325.0000, 106.0000,   3.0000,   3.5000,   4.0000,   8.4000,   1.0000],\n",
            "        [326.0000, 116.0000,   2.0000,   4.5000,   3.0000,   9.0800,   1.0000],\n",
            "        [322.0000, 115.0000,   5.0000,   4.0000,   4.5000,   9.3600,   1.0000],\n",
            "        [323.0000, 113.0000,   3.0000,   4.0000,   3.0000,   9.3200,   1.0000],\n",
            "        [300.0000,  99.0000,   1.0000,   1.0000,   2.5000,   8.0100,   0.0000],\n",
            "        [323.0000, 108.0000,   5.0000,   4.0000,   4.0000,   8.7400,   1.0000],\n",
            "        [295.0000, 101.0000,   2.0000,   2.5000,   2.0000,   7.8600,   0.0000],\n",
            "        [312.0000, 104.0000,   3.0000,   3.5000,   4.0000,   8.0900,   0.0000],\n",
            "        [329.0000, 113.0000,   5.0000,   5.0000,   4.5000,   9.4500,   1.0000],\n",
            "        [322.0000, 110.0000,   3.0000,   3.5000,   2.5000,   8.6700,   1.0000],\n",
            "        [314.0000, 110.0000,   3.0000,   4.0000,   4.0000,   8.8000,   0.0000],\n",
            "        [324.0000, 114.0000,   5.0000,   5.0000,   4.5000,   9.0800,   1.0000],\n",
            "        [326.0000, 116.0000,   3.0000,   3.5000,   4.0000,   9.1400,   1.0000],\n",
            "        [324.0000, 110.0000,   3.0000,   3.5000,   3.5000,   9.0400,   1.0000],\n",
            "        [324.0000, 112.0000,   5.0000,   5.0000,   5.0000,   9.0800,   1.0000],\n",
            "        [339.0000, 116.0000,   4.0000,   4.0000,   3.5000,   9.8000,   1.0000]])\n",
            "tensor([0.5200, 0.8000, 0.9200, 0.8500, 0.5800, 0.8100, 0.6900, 0.7100, 0.8900,\n",
            "        0.8000, 0.7500, 0.8900, 0.8100, 0.8200, 0.8800, 0.9600])\n",
            "..................................................\n",
            "tensor([[328.0000, 110.0000,   4.0000,   4.0000,   2.5000,   9.0200,   1.0000],\n",
            "        [320.0000, 113.0000,   2.0000,   2.0000,   2.5000,   8.6400,   1.0000],\n",
            "        [307.0000, 105.0000,   2.0000,   2.5000,   3.0000,   7.6500,   0.0000],\n",
            "        [313.0000, 106.0000,   2.0000,   2.5000,   2.0000,   8.4300,   0.0000],\n",
            "        [332.0000, 116.0000,   5.0000,   5.0000,   5.0000,   9.2800,   1.0000],\n",
            "        [325.0000, 110.0000,   2.0000,   3.0000,   2.5000,   8.7600,   1.0000],\n",
            "        [324.0000, 110.0000,   3.0000,   3.5000,   4.0000,   8.8700,   1.0000],\n",
            "        [327.0000, 108.0000,   5.0000,   5.0000,   3.5000,   9.1300,   1.0000],\n",
            "        [299.0000, 100.0000,   3.0000,   2.0000,   2.0000,   8.0200,   0.0000],\n",
            "        [320.0000, 103.0000,   3.0000,   3.0000,   3.0000,   7.7000,   0.0000],\n",
            "        [317.0000, 107.0000,   3.0000,   4.0000,   3.0000,   8.7000,   0.0000],\n",
            "        [295.0000,  93.0000,   1.0000,   2.0000,   2.0000,   7.2000,   0.0000],\n",
            "        [302.0000,  99.0000,   1.0000,   2.0000,   2.0000,   7.2500,   0.0000],\n",
            "        [311.0000, 104.0000,   2.0000,   2.0000,   2.0000,   8.3000,   0.0000],\n",
            "        [307.0000, 108.0000,   2.0000,   4.0000,   3.5000,   7.7000,   0.0000],\n",
            "        [314.0000, 102.0000,   2.0000,   2.0000,   2.5000,   8.2400,   0.0000]])\n",
            "tensor([0.8100, 0.8100, 0.5800, 0.6200, 0.9400, 0.7500, 0.8000, 0.8700, 0.6300,\n",
            "        0.6400, 0.6600, 0.4600, 0.5700, 0.4200, 0.4800, 0.6400])\n",
            "..................................................\n",
            "tensor([[314.0000, 108.0000,   3.0000,   4.5000,   3.5000,   8.1400,   0.0000],\n",
            "        [299.0000,  96.0000,   2.0000,   1.5000,   2.0000,   7.8600,   0.0000],\n",
            "        [333.0000, 117.0000,   4.0000,   5.0000,   4.0000,   9.6600,   1.0000],\n",
            "        [311.0000, 102.0000,   3.0000,   4.5000,   4.0000,   8.6400,   1.0000],\n",
            "        [300.0000, 102.0000,   3.0000,   3.5000,   2.5000,   8.1700,   0.0000],\n",
            "        [323.0000, 113.0000,   4.0000,   4.0000,   4.5000,   9.2300,   1.0000],\n",
            "        [319.0000, 110.0000,   3.0000,   3.0000,   2.5000,   8.7900,   0.0000],\n",
            "        [324.0000, 111.0000,   5.0000,   4.5000,   4.0000,   9.1600,   1.0000],\n",
            "        [326.0000, 112.0000,   4.0000,   4.0000,   3.5000,   9.1200,   1.0000],\n",
            "        [311.0000,  99.0000,   2.0000,   2.5000,   3.0000,   7.9800,   0.0000],\n",
            "        [316.0000,  99.0000,   2.0000,   2.5000,   3.0000,   9.0000,   0.0000],\n",
            "        [320.0000, 110.0000,   2.0000,   4.0000,   3.5000,   8.5600,   0.0000],\n",
            "        [311.0000, 104.0000,   2.0000,   2.5000,   3.5000,   8.4800,   0.0000],\n",
            "        [315.0000, 107.0000,   2.0000,   4.0000,   3.0000,   8.5000,   1.0000],\n",
            "        [300.0000,  97.0000,   2.0000,   3.0000,   3.0000,   8.1000,   1.0000],\n",
            "        [328.0000, 116.0000,   5.0000,   5.0000,   5.0000,   9.5000,   1.0000]])\n",
            "tensor([0.6400, 0.5400, 0.9500, 0.6800, 0.6300, 0.8900, 0.7200, 0.9000, 0.8400,\n",
            "        0.6500, 0.7000, 0.7200, 0.7100, 0.5600, 0.6500, 0.9400])\n",
            "..................................................\n",
            "tensor([[313.0000, 104.0000,   3.0000,   4.0000,   4.5000,   8.6500,   0.0000],\n",
            "        [327.0000, 112.0000,   3.0000,   3.0000,   3.0000,   8.7200,   1.0000],\n",
            "        [296.0000,  97.0000,   2.0000,   1.5000,   2.0000,   7.8000,   0.0000],\n",
            "        [299.0000,  97.0000,   3.0000,   5.0000,   3.5000,   7.6600,   0.0000],\n",
            "        [315.0000, 100.0000,   1.0000,   2.0000,   2.5000,   7.9500,   0.0000],\n",
            "        [327.0000, 104.0000,   5.0000,   3.0000,   3.5000,   8.8400,   1.0000],\n",
            "        [305.0000, 106.0000,   2.0000,   3.0000,   3.0000,   8.1600,   0.0000],\n",
            "        [313.0000, 102.0000,   3.0000,   3.5000,   4.0000,   8.9000,   1.0000],\n",
            "        [295.0000,  99.0000,   2.0000,   2.5000,   3.0000,   7.6500,   0.0000],\n",
            "        [306.0000, 106.0000,   2.0000,   2.0000,   2.5000,   8.1400,   0.0000],\n",
            "        [320.0000, 110.0000,   5.0000,   5.0000,   4.5000,   9.2200,   1.0000],\n",
            "        [321.0000, 109.0000,   4.0000,   4.0000,   4.0000,   9.1300,   1.0000],\n",
            "        [319.0000, 105.0000,   3.0000,   3.0000,   3.5000,   8.6700,   1.0000],\n",
            "        [327.0000, 111.0000,   4.0000,   3.0000,   4.0000,   8.4000,   1.0000],\n",
            "        [322.0000, 107.0000,   3.0000,   3.5000,   3.5000,   8.4600,   1.0000],\n",
            "        [301.0000,  99.0000,   2.0000,   3.0000,   2.0000,   8.2200,   0.0000]])\n",
            "tensor([0.7300, 0.7400, 0.4900, 0.3800, 0.5800, 0.7100, 0.6400, 0.7700, 0.5700,\n",
            "        0.6100, 0.9200, 0.8500, 0.7300, 0.7800, 0.7100, 0.6400])\n",
            "..................................................\n",
            "tensor([[308.0000, 103.0000,   2.0000,   2.5000,   4.0000,   8.3600,   1.0000],\n",
            "        [303.0000, 102.0000,   3.0000,   3.5000,   3.0000,   8.5000,   0.0000],\n",
            "        [327.0000, 109.0000,   3.0000,   3.5000,   4.0000,   8.7700,   1.0000],\n",
            "        [317.0000, 100.0000,   2.0000,   3.0000,   2.5000,   8.5700,   0.0000],\n",
            "        [304.0000, 101.0000,   2.0000,   2.0000,   2.5000,   7.6600,   0.0000],\n",
            "        [298.0000,  99.0000,   1.0000,   1.5000,   3.0000,   7.4600,   0.0000],\n",
            "        [321.0000, 111.0000,   3.0000,   3.5000,   4.0000,   8.8300,   1.0000],\n",
            "        [327.0000, 113.0000,   4.0000,   4.5000,   4.5000,   9.1100,   1.0000],\n",
            "        [308.0000, 110.0000,   4.0000,   3.5000,   3.0000,   8.6000,   0.0000],\n",
            "        [330.0000, 114.0000,   3.0000,   4.5000,   4.5000,   9.2400,   1.0000],\n",
            "        [320.0000, 101.0000,   2.0000,   2.5000,   3.0000,   8.6200,   0.0000],\n",
            "        [308.0000, 104.0000,   2.0000,   2.5000,   3.0000,   8.0700,   0.0000],\n",
            "        [325.0000, 108.0000,   4.0000,   4.5000,   4.0000,   9.0600,   1.0000],\n",
            "        [316.0000, 110.0000,   3.0000,   4.0000,   4.5000,   8.7800,   1.0000],\n",
            "        [317.0000, 106.0000,   2.0000,   2.0000,   3.5000,   8.1200,   0.0000],\n",
            "        [322.0000, 105.0000,   2.0000,   3.0000,   3.0000,   8.4500,   1.0000]])\n",
            "tensor([0.7000, 0.6200, 0.7900, 0.6800, 0.3800, 0.5300, 0.7700, 0.8900, 0.7000,\n",
            "        0.9000, 0.7000, 0.6500, 0.7900, 0.6900, 0.7300, 0.6500])\n",
            "..................................................\n",
            "tensor([[296.0000, 101.0000,   1.0000,   2.5000,   3.0000,   7.6800,   0.0000],\n",
            "        [303.0000, 100.0000,   2.0000,   3.0000,   3.5000,   8.0600,   1.0000],\n",
            "        [311.0000, 105.0000,   3.0000,   3.5000,   3.0000,   8.4500,   1.0000],\n",
            "        [304.0000, 105.0000,   1.0000,   3.0000,   1.5000,   7.5000,   0.0000],\n",
            "        [298.0000,  99.0000,   2.0000,   4.0000,   2.0000,   7.6000,   0.0000],\n",
            "        [327.0000, 113.0000,   3.0000,   3.5000,   3.0000,   8.6600,   1.0000],\n",
            "        [304.0000,  97.0000,   2.0000,   1.5000,   2.0000,   7.6400,   0.0000],\n",
            "        [328.0000, 110.0000,   4.0000,   5.0000,   4.0000,   9.1400,   1.0000],\n",
            "        [301.0000, 104.0000,   2.0000,   3.5000,   3.5000,   7.8900,   1.0000],\n",
            "        [299.0000, 106.0000,   2.0000,   4.0000,   4.0000,   8.4000,   0.0000],\n",
            "        [330.0000, 114.0000,   4.0000,   4.5000,   3.0000,   9.1700,   1.0000],\n",
            "        [323.0000, 112.0000,   5.0000,   4.0000,   4.5000,   8.7800,   0.0000],\n",
            "        [315.0000, 106.0000,   3.0000,   4.5000,   3.5000,   8.4200,   0.0000],\n",
            "        [314.0000, 105.0000,   2.0000,   2.5000,   2.0000,   7.6400,   0.0000],\n",
            "        [315.0000, 105.0000,   3.0000,   2.0000,   2.5000,   8.3400,   0.0000],\n",
            "        [319.0000, 112.0000,   3.0000,   2.5000,   2.0000,   8.7100,   1.0000]])\n",
            "tensor([0.6000, 0.6400, 0.5900, 0.5200, 0.4600, 0.8000, 0.4700, 0.8200, 0.6800,\n",
            "        0.6400, 0.8600, 0.7900, 0.7200, 0.7000, 0.7000, 0.7800])\n",
            "..................................................\n",
            "tensor([[319.0000, 110.0000,   3.0000,   3.5000,   3.5000,   9.0400,   0.0000],\n",
            "        [336.0000, 119.0000,   5.0000,   4.0000,   3.5000,   9.8000,   1.0000],\n",
            "        [310.0000, 106.0000,   4.0000,   4.5000,   4.5000,   9.0400,   1.0000],\n",
            "        [298.0000, 101.0000,   2.0000,   1.5000,   2.0000,   7.8600,   0.0000],\n",
            "        [306.0000, 103.0000,   2.0000,   2.5000,   3.0000,   8.3600,   0.0000],\n",
            "        [330.0000, 116.0000,   5.0000,   5.0000,   4.5000,   9.3600,   1.0000],\n",
            "        [321.0000, 109.0000,   3.0000,   3.0000,   3.0000,   8.5400,   1.0000],\n",
            "        [324.0000, 111.0000,   3.0000,   2.5000,   1.5000,   8.7900,   1.0000],\n",
            "        [308.0000, 106.0000,   3.0000,   3.5000,   2.5000,   8.2100,   1.0000],\n",
            "        [327.0000, 113.0000,   4.0000,   3.5000,   3.0000,   8.6900,   1.0000],\n",
            "        [300.0000, 100.0000,   3.0000,   3.0000,   3.5000,   8.2600,   0.0000],\n",
            "        [307.0000, 102.0000,   3.0000,   3.0000,   3.0000,   8.2700,   0.0000],\n",
            "        [307.0000, 109.0000,   3.0000,   4.0000,   3.0000,   8.0000,   1.0000],\n",
            "        [324.0000, 105.0000,   3.0000,   3.0000,   4.0000,   8.7500,   0.0000],\n",
            "        [317.0000, 103.0000,   2.0000,   2.5000,   2.0000,   8.1500,   0.0000],\n",
            "        [321.0000, 110.0000,   3.0000,   3.5000,   5.0000,   8.8500,   1.0000]])\n",
            "tensor([0.8200, 0.9700, 0.6600, 0.5400, 0.6900, 0.9300, 0.7900, 0.7000, 0.7500,\n",
            "        0.8000, 0.6200, 0.7300, 0.6200, 0.7900, 0.6500, 0.8200])\n",
            "..................................................\n",
            "tensor([[313.0000,  98.0000,   3.0000,   2.5000,   4.5000,   8.3000,   1.0000],\n",
            "        [336.0000, 118.0000,   5.0000,   4.5000,   5.0000,   9.5300,   1.0000],\n",
            "        [294.0000,  93.0000,   1.0000,   1.5000,   2.0000,   7.3600,   0.0000],\n",
            "        [317.0000, 110.0000,   3.0000,   4.0000,   4.5000,   9.1100,   1.0000],\n",
            "        [321.0000, 111.0000,   3.0000,   2.5000,   3.0000,   8.9000,   1.0000],\n",
            "        [318.0000, 109.0000,   3.0000,   3.0000,   3.0000,   8.5000,   0.0000],\n",
            "        [311.0000,  99.0000,   1.0000,   2.5000,   3.0000,   8.4300,   1.0000],\n",
            "        [318.0000, 106.0000,   2.0000,   4.0000,   4.0000,   7.9200,   1.0000],\n",
            "        [312.0000, 108.0000,   3.0000,   3.5000,   3.0000,   8.5300,   0.0000],\n",
            "        [316.0000, 104.0000,   3.0000,   3.0000,   3.5000,   8.0000,   1.0000],\n",
            "        [312.0000,  99.0000,   1.0000,   1.0000,   1.5000,   8.0100,   1.0000],\n",
            "        [323.0000, 110.0000,   3.0000,   4.0000,   3.5000,   9.1000,   1.0000],\n",
            "        [317.0000, 104.0000,   2.0000,   3.0000,   3.0000,   8.7600,   0.0000],\n",
            "        [321.0000, 114.0000,   4.0000,   4.0000,   5.0000,   9.1200,   0.0000],\n",
            "        [318.0000, 106.0000,   3.0000,   2.0000,   3.0000,   8.6500,   0.0000],\n",
            "        [335.0000, 115.0000,   4.0000,   4.5000,   4.5000,   9.6800,   1.0000]])\n",
            "tensor([0.7600, 0.9400, 0.4600, 0.8000, 0.8000, 0.6700, 0.7100, 0.6400, 0.6900,\n",
            "        0.7200, 0.5200, 0.7900, 0.7700, 0.8500, 0.7100, 0.9300])\n",
            "..................................................\n",
            "tensor([[307.0000, 110.0000,   4.0000,   4.0000,   4.5000,   8.3700,   0.0000],\n",
            "        [328.0000, 108.0000,   4.0000,   4.5000,   4.0000,   9.1800,   1.0000],\n",
            "        [320.0000, 104.0000,   3.0000,   3.0000,   2.5000,   8.5700,   1.0000],\n",
            "        [333.0000, 113.0000,   5.0000,   4.0000,   4.0000,   9.2800,   1.0000],\n",
            "        [298.0000,  98.0000,   2.0000,   1.5000,   2.5000,   7.5000,   1.0000],\n",
            "        [311.0000,  98.0000,   1.0000,   1.0000,   2.5000,   7.4600,   0.0000],\n",
            "        [304.0000, 102.0000,   2.0000,   3.0000,   4.0000,   8.7300,   0.0000],\n",
            "        [299.0000, 100.0000,   1.0000,   1.5000,   2.0000,   7.8900,   0.0000],\n",
            "        [316.0000, 102.0000,   3.0000,   2.0000,   3.0000,   7.4000,   0.0000],\n",
            "        [325.0000, 111.0000,   3.0000,   3.0000,   3.5000,   8.7000,   0.0000],\n",
            "        [331.0000, 119.0000,   4.0000,   5.0000,   4.5000,   9.3400,   1.0000],\n",
            "        [312.0000, 105.0000,   2.0000,   2.0000,   2.5000,   8.4500,   0.0000],\n",
            "        [337.0000, 118.0000,   4.0000,   4.5000,   4.5000,   9.6500,   1.0000],\n",
            "        [306.0000, 110.0000,   2.0000,   3.5000,   4.0000,   8.4500,   0.0000],\n",
            "        [304.0000, 100.0000,   2.0000,   2.5000,   3.5000,   8.0700,   0.0000],\n",
            "        [312.0000, 104.0000,   3.0000,   3.5000,   3.5000,   8.4200,   0.0000]])\n",
            "tensor([0.7900, 0.8400, 0.7400, 0.8900, 0.4400, 0.5700, 0.6700, 0.5900, 0.6400,\n",
            "        0.5200, 0.9000, 0.7200, 0.9200, 0.6300, 0.6400, 0.7400])\n",
            "..................................................\n",
            "tensor([[305.0000, 107.0000,   2.0000,   2.5000,   2.5000,   8.4200,   0.0000],\n",
            "        [316.0000,  98.0000,   1.0000,   1.5000,   2.0000,   7.4300,   0.0000],\n",
            "        [329.0000, 111.0000,   4.0000,   4.5000,   4.0000,   9.2300,   1.0000],\n",
            "        [298.0000,  92.0000,   1.0000,   2.0000,   2.0000,   7.8800,   0.0000],\n",
            "        [326.0000, 113.0000,   5.0000,   4.5000,   4.0000,   9.4000,   1.0000],\n",
            "        [302.0000, 102.0000,   1.0000,   2.0000,   1.5000,   8.0000,   0.0000],\n",
            "        [305.0000, 112.0000,   3.0000,   3.0000,   3.5000,   8.6500,   0.0000],\n",
            "        [329.0000, 119.0000,   4.0000,   4.5000,   4.5000,   9.1600,   1.0000],\n",
            "        [315.0000, 103.0000,   1.0000,   1.5000,   2.0000,   7.8600,   0.0000],\n",
            "        [313.0000, 102.0000,   3.0000,   2.5000,   2.5000,   8.6800,   0.0000],\n",
            "        [302.0000,  99.0000,   2.0000,   1.0000,   2.0000,   7.9700,   0.0000],\n",
            "        [325.0000, 112.0000,   2.0000,   3.0000,   3.5000,   8.9600,   1.0000],\n",
            "        [316.0000, 109.0000,   3.0000,   3.5000,   3.0000,   8.7600,   0.0000],\n",
            "        [321.0000, 111.0000,   5.0000,   5.0000,   5.0000,   9.4500,   1.0000],\n",
            "        [313.0000, 102.0000,   3.0000,   2.0000,   3.0000,   8.2700,   0.0000],\n",
            "        [338.0000, 115.0000,   5.0000,   4.5000,   5.0000,   9.2300,   1.0000]])\n",
            "tensor([0.7100, 0.4900, 0.8900, 0.5100, 0.9100, 0.5000, 0.7100, 0.9000, 0.5700,\n",
            "        0.7100, 0.5600, 0.8000, 0.7700, 0.9300, 0.6400, 0.9100])\n",
            "..................................................\n",
            "tensor([[312.0000, 109.0000,   3.0000,   3.0000,   3.0000,   8.6900,   0.0000],\n",
            "        [326.0000, 114.0000,   3.0000,   3.0000,   3.0000,   9.1100,   1.0000],\n",
            "        [329.0000, 110.0000,   2.0000,   4.0000,   3.0000,   9.1500,   1.0000],\n",
            "        [299.0000, 100.0000,   2.0000,   3.0000,   3.5000,   7.8800,   0.0000],\n",
            "        [307.0000, 107.0000,   2.0000,   3.0000,   3.5000,   8.5200,   1.0000],\n",
            "        [339.0000, 119.0000,   5.0000,   4.5000,   4.0000,   9.7000,   0.0000],\n",
            "        [322.0000, 109.0000,   5.0000,   4.5000,   3.5000,   8.8000,   0.0000],\n",
            "        [335.0000, 117.0000,   5.0000,   5.0000,   5.0000,   9.5600,   1.0000],\n",
            "        [301.0000,  98.0000,   1.0000,   2.0000,   3.0000,   8.0300,   1.0000],\n",
            "        [312.0000, 107.0000,   3.0000,   3.0000,   2.0000,   7.9000,   1.0000],\n",
            "        [331.0000, 116.0000,   5.0000,   5.0000,   5.0000,   9.3800,   1.0000],\n",
            "        [315.0000, 105.0000,   3.0000,   2.0000,   2.5000,   8.4800,   0.0000],\n",
            "        [317.0000, 103.0000,   3.0000,   2.5000,   3.0000,   8.5400,   1.0000],\n",
            "        [317.0000, 105.0000,   3.0000,   3.5000,   3.0000,   8.5600,   0.0000],\n",
            "        [340.0000, 114.0000,   5.0000,   4.0000,   4.0000,   9.6000,   1.0000],\n",
            "        [327.0000, 114.0000,   3.0000,   3.0000,   3.0000,   9.0200,   0.0000]])\n",
            "tensor([0.7700, 0.8300, 0.8400, 0.6800, 0.7800, 0.8900, 0.7600, 0.9400, 0.6700,\n",
            "        0.6400, 0.9300, 0.7500, 0.7300, 0.6800, 0.9000, 0.6100])\n",
            "..................................................\n",
            "tensor([[314.0000, 106.0000,   3.0000,   3.0000,   5.0000,   8.9000,   0.0000],\n",
            "        [331.0000, 112.0000,   5.0000,   4.0000,   5.0000,   9.8000,   1.0000],\n",
            "        [322.0000, 112.0000,   4.0000,   4.5000,   4.5000,   9.2600,   1.0000],\n",
            "        [312.0000, 103.0000,   3.0000,   5.0000,   4.0000,   8.4500,   0.0000],\n",
            "        [322.0000, 104.0000,   3.0000,   3.5000,   4.0000,   8.8400,   1.0000],\n",
            "        [309.0000, 104.0000,   2.0000,   2.0000,   2.5000,   8.2600,   0.0000],\n",
            "        [333.0000, 119.0000,   5.0000,   5.0000,   4.5000,   9.7800,   1.0000],\n",
            "        [312.0000, 107.0000,   2.0000,   2.5000,   3.5000,   8.2700,   0.0000],\n",
            "        [331.0000, 116.0000,   5.0000,   4.0000,   4.0000,   9.2600,   1.0000],\n",
            "        [306.0000, 100.0000,   2.0000,   3.0000,   3.0000,   8.0000,   0.0000],\n",
            "        [317.0000, 107.0000,   2.0000,   3.5000,   3.0000,   8.2800,   0.0000],\n",
            "        [311.0000, 105.0000,   2.0000,   3.0000,   2.0000,   8.1200,   1.0000],\n",
            "        [334.0000, 119.0000,   5.0000,   5.0000,   4.5000,   9.7000,   1.0000],\n",
            "        [302.0000, 101.0000,   2.0000,   2.5000,   3.5000,   7.9600,   0.0000],\n",
            "        [307.0000, 101.0000,   3.0000,   4.0000,   3.0000,   8.2000,   0.0000],\n",
            "        [303.0000,  99.0000,   3.0000,   2.0000,   2.5000,   7.6600,   0.0000]])\n",
            "tensor([0.7400, 0.9400, 0.9100, 0.7600, 0.7800, 0.6500, 0.9600, 0.6900, 0.9300,\n",
            "        0.4800, 0.6600, 0.7300, 0.9500, 0.4600, 0.4700, 0.3600])\n",
            "..................................................\n"
          ]
        },
        {
          "output_type": "stream",
          "name": "stderr",
          "text": [
            "/usr/local/lib/python3.12/dist-packages/torch/utils/data/dataloader.py:666: UserWarning: 'pin_memory' argument is set as true but no accelerator is found, then device pinned memory won't be used.\n",
            "  warnings.warn(warn_msg)\n"
          ]
        }
      ]
    },
    {
      "cell_type": "code",
      "source": [
        "class MyNN(nn.Module):\n",
        "\n",
        "  def __init__(self, input_dim, output_dim, num_hidden_layers, neurons_per_layer, dropout_rate):\n",
        "\n",
        "    super().__init__()\n",
        "\n",
        "    layers = []\n",
        "\n",
        "    for i in range(num_hidden_layers):\n",
        "\n",
        "      layers.append(nn.Linear(input_dim, neurons_per_layer))\n",
        "      layers.append(nn.BatchNorm1d(neurons_per_layer)) #to normalize the outputs of the previous layer\n",
        "      layers.append(nn.ReLU())\n",
        "      layers.append(nn.Dropout(dropout_rate))\n",
        "      input_dim = neurons_per_layer\n",
        "\n",
        "    layers.append(nn.Linear(neurons_per_layer, output_dim))\n",
        "\n",
        "    self.model = nn.Sequential(*layers)\n",
        "\n",
        "  def forward(self, x):\n",
        "\n",
        "    return self.model(x)"
      ],
      "metadata": {
        "id": "QyOKtwz5uJSN"
      },
      "id": "QyOKtwz5uJSN",
      "execution_count": 30,
      "outputs": []
    },
    {
      "cell_type": "code",
      "source": [
        "import torch.optim as optim\n",
        "device = torch.device('cuda' if torch.cuda.is_available() else 'cpu')\n",
        "print(f\"Using device: {device}\")"
      ],
      "metadata": {
        "id": "_MHcuBq4vRg7",
        "outputId": "580e1d7c-6b35-434f-e7ec-2263625430dc",
        "colab": {
          "base_uri": "https://localhost:8080/"
        }
      },
      "id": "_MHcuBq4vRg7",
      "execution_count": 31,
      "outputs": [
        {
          "output_type": "stream",
          "name": "stdout",
          "text": [
            "Using device: cpu\n"
          ]
        }
      ]
    },
    {
      "cell_type": "markdown",
      "source": [
        "Training Pipeline"
      ],
      "metadata": {
        "id": "RHWaiAlowDYx"
      },
      "id": "RHWaiAlowDYx"
    },
    {
      "cell_type": "code",
      "source": [
        "#Hyperparameter Tuning using Optuna\n",
        "import torch\n",
        "import torch.nn as nn\n",
        "import torch.optim as optim\n",
        "from torch.utils.data import DataLoader, random_split\n",
        "import optuna\n",
        "import numpy as np\n",
        "import random\n",
        "\n",
        "# Optional: set seeds for reproducibility\n",
        "torch.manual_seed(42) # Any random operations in PyTorch — like random weight initialization in neural networks, shuffling in DataLoader, or random tensor generation — will now produce the same output each time you run your script.\n",
        "np.random.seed(42) # All NumPy random operations (e.g., np.random.rand(), np.random.randint()) will become reproducible.\n",
        "random.seed(42) # Sets the random seed for Python’s built-in random module like random.random(), random.shuffle(), random.choice().\n",
        "\n",
        "# Example: assuming you already have train_dataset and test_dataset loaded\n",
        "device = torch.device(\"cuda\" if torch.cuda.is_available() else \"cpu\")\n",
        "\n",
        "def objective(trial):\n",
        "\n",
        "    # --- Hyperparameter search space ---\n",
        "    num_hidden_layers = trial.suggest_int(\"num_hidden_layers\", 1, 5)\n",
        "    neurons_per_layer = trial.suggest_int(\"neurons_per_layer\", 8, 128, step=8)\n",
        "    epochs = trial.suggest_int(\"epochs\", 10, 50, step=10)\n",
        "    learning_rate = trial.suggest_float(\"learning_rate\", 1e-5, 1e-1, log=True)\n",
        "    dropout_rate = trial.suggest_float(\"dropout_rate\", 0.1, 0.5, step=0.1)\n",
        "    batch_size = trial.suggest_categorical(\"batch_size\", [16, 32, 64, 128])\n",
        "    optimizer_name = trial.suggest_categorical(\"optimizer\", ['Adam', 'SGD', 'RMSprop'])\n",
        "    weight_decay = trial.suggest_float(\"weight_decay\", 1e-5, 1e-3, log=True)\n",
        "\n",
        "    # --- Split training data into train + validation sets ---\n",
        "    val_ratio = 0.2\n",
        "    val_size = int(len(train_dataset) * val_ratio)\n",
        "    train_data, val_data = random_split(train_dataset, [len(train_dataset) - val_size, val_size])\n",
        "\n",
        "    # --- DataLoaders ---\n",
        "    train_loader = DataLoader(train_data, batch_size=batch_size, shuffle=True, pin_memory=True)\n",
        "    val_loader = DataLoader(val_data, batch_size=batch_size, shuffle=False, pin_memory=True)\n",
        "    test_loader = DataLoader(test_dataset, batch_size=batch_size, shuffle=False, pin_memory=True)\n",
        "\n",
        "    # --- Model initialization ---\n",
        "    input_dim = 7\n",
        "    output_dim = 1\n",
        "    model = MyNN(input_dim, output_dim, num_hidden_layers, neurons_per_layer, dropout_rate)\n",
        "    model.to(device)\n",
        "\n",
        "    # --- Loss and optimizer setup ---\n",
        "    criterion = nn.MSELoss()\n",
        "\n",
        "    if optimizer_name == 'Adam':\n",
        "        optimizer = optim.Adam(model.parameters(), lr=learning_rate, weight_decay=weight_decay)\n",
        "    elif optimizer_name == 'SGD':\n",
        "        optimizer = optim.SGD(model.parameters(), lr=learning_rate, weight_decay=weight_decay)\n",
        "    else:\n",
        "        optimizer = optim.RMSprop(model.parameters(), lr=learning_rate, weight_decay=weight_decay)\n",
        "\n",
        "    # --- Training loop ---\n",
        "    best_val_loss = float(\"inf\")\n",
        "    patience, patience_counter = 5, 0  # for early stopping\n",
        "\n",
        "    for epoch in range(epochs):\n",
        "\n",
        "        model.train()\n",
        "        running_loss = 0.0\n",
        "\n",
        "        for batch_features, batch_labels in train_loader:\n",
        "            batch_features, batch_labels = batch_features.to(device), batch_labels.to(device)\n",
        "\n",
        "            optimizer.zero_grad()                         # clears all the gradients\n",
        "            preds = model(batch_features).squeeze()       # forward pass\n",
        "            loss = criterion(preds, batch_labels.float()) # compute the mean of the individual losses\n",
        "            loss.backward()                               # Compute gradients via backpropagation\n",
        "            optimizer.step()                              # Update weights using gradients\n",
        "\n",
        "            running_loss += loss.item()    # adding the loss of each batch, loss looks like tensor(2.3456), to get numerical we use loss.item()\n",
        "\n",
        "        # --- Validation phase ---\n",
        "        model.eval()\n",
        "        val_loss = 0.0\n",
        "        with torch.no_grad(): # disable gradient tracking / computation graph which are done by Autograd\n",
        "            for X_val, y_val in val_loader:\n",
        "                X_val, y_val = X_val.to(device), y_val.to(device)\n",
        "                preds = model(X_val).squeeze()\n",
        "                val_loss += criterion(preds, y_val.float()).item()\n",
        "\n",
        "        val_loss /= len(val_loader)\n",
        "        trial.report(val_loss, epoch)  # Optuna reporting for pruning\n",
        "\n",
        "        # --- Pruning unpromising trials ---\n",
        "        if trial.should_prune():\n",
        "            raise optuna.exceptions.TrialPruned()\n",
        "\n",
        "        # --- Early stopping ---\n",
        "        if val_loss < best_val_loss:\n",
        "            best_val_loss = val_loss\n",
        "            patience_counter = 0\n",
        "        else:\n",
        "            patience_counter += 1\n",
        "            if patience_counter >= patience:\n",
        "                break\n",
        "\n",
        "    # --- Final evaluation on test set ---\n",
        "    model.eval()\n",
        "    total_mse = 0.0\n",
        "    total_samples = 0\n",
        "    with torch.no_grad():\n",
        "        for X_test, y_test in test_loader:\n",
        "            X_test, y_test = X_test.to(device), y_test.to(device)\n",
        "            preds = model(X_test).squeeze()\n",
        "            mse = torch.mean((preds - y_test) ** 2)\n",
        "            total_mse += mse.item() * y_test.size(0)\n",
        "            total_samples += y_test.size(0)\n",
        "\n",
        "    final_mse = total_mse / total_samples\n",
        "    torch.cuda.empty_cache()  # free GPU memory for next trial\n",
        "\n",
        "    return final_mse\n"
      ],
      "metadata": {
        "id": "tuS6XgmF5V1B"
      },
      "id": "tuS6XgmF5V1B",
      "execution_count": 32,
      "outputs": []
    },
    {
      "cell_type": "code",
      "source": [
        "study = optuna.create_study(direction='minimize')# For classification use maximize"
      ],
      "metadata": {
        "id": "y9vpb8QNu3TT",
        "outputId": "68278d3d-a4a0-40db-fe2c-0f570d4bbe78",
        "colab": {
          "base_uri": "https://localhost:8080/"
        }
      },
      "id": "y9vpb8QNu3TT",
      "execution_count": 33,
      "outputs": [
        {
          "output_type": "stream",
          "name": "stderr",
          "text": [
            "[I 2025-10-25 10:11:36,871] A new study created in memory with name: no-name-ef45e45b-f924-4874-8e98-17515c0d8e2d\n"
          ]
        }
      ]
    },
    {
      "cell_type": "code",
      "source": [
        "study.optimize(objective, n_trials=10)"
      ],
      "metadata": {
        "id": "tlCoJITIvbZa",
        "outputId": "37a1dbe3-da55-4ff0-eb3d-b2535f493a16",
        "colab": {
          "base_uri": "https://localhost:8080/"
        }
      },
      "id": "tlCoJITIvbZa",
      "execution_count": 34,
      "outputs": [
        {
          "output_type": "stream",
          "name": "stderr",
          "text": [
            "/usr/local/lib/python3.12/dist-packages/torch/utils/data/dataloader.py:666: UserWarning: 'pin_memory' argument is set as true but no accelerator is found, then device pinned memory won't be used.\n",
            "  warnings.warn(warn_msg)\n",
            "[I 2025-10-25 10:11:48,429] Trial 0 finished with value: 0.022647717967629433 and parameters: {'num_hidden_layers': 4, 'neurons_per_layer': 128, 'epochs': 10, 'learning_rate': 0.002283261058215399, 'dropout_rate': 0.4, 'batch_size': 128, 'optimizer': 'Adam', 'weight_decay': 0.0005875036330183297}. Best is trial 0 with value: 0.022647717967629433.\n",
            "[I 2025-10-25 10:11:48,641] Trial 1 finished with value: 1.0565967559814453 and parameters: {'num_hidden_layers': 4, 'neurons_per_layer': 120, 'epochs': 10, 'learning_rate': 1.727541118739187e-05, 'dropout_rate': 0.1, 'batch_size': 128, 'optimizer': 'SGD', 'weight_decay': 9.26336242979626e-05}. Best is trial 0 with value: 0.022647717967629433.\n",
            "[I 2025-10-25 10:11:48,924] Trial 2 finished with value: 0.5724153459072113 and parameters: {'num_hidden_layers': 1, 'neurons_per_layer': 96, 'epochs': 40, 'learning_rate': 1.8223193453019915e-05, 'dropout_rate': 0.30000000000000004, 'batch_size': 16, 'optimizer': 'RMSprop', 'weight_decay': 2.1664084430088204e-05}. Best is trial 0 with value: 0.022647717967629433.\n",
            "[I 2025-10-25 10:11:49,189] Trial 3 finished with value: 0.1422666311264038 and parameters: {'num_hidden_layers': 3, 'neurons_per_layer': 104, 'epochs': 20, 'learning_rate': 0.0002350938997559131, 'dropout_rate': 0.1, 'batch_size': 128, 'optimizer': 'SGD', 'weight_decay': 8.07881024249798e-05}. Best is trial 0 with value: 0.022647717967629433.\n",
            "[I 2025-10-25 10:11:49,277] Trial 4 finished with value: 0.17224998772144318 and parameters: {'num_hidden_layers': 2, 'neurons_per_layer': 56, 'epochs': 10, 'learning_rate': 0.00012796191753217622, 'dropout_rate': 0.1, 'batch_size': 128, 'optimizer': 'SGD', 'weight_decay': 0.0005641972273210897}. Best is trial 0 with value: 0.022647717967629433.\n",
            "[I 2025-10-25 10:11:49,306] Trial 5 pruned. \n",
            "[I 2025-10-25 10:11:49,330] Trial 6 pruned. \n",
            "[I 2025-10-25 10:11:49,397] Trial 7 pruned. \n",
            "[I 2025-10-25 10:11:49,425] Trial 8 pruned. \n",
            "[I 2025-10-25 10:11:49,458] Trial 9 pruned. \n"
          ]
        }
      ]
    },
    {
      "cell_type": "code",
      "source": [
        "study.best_value"
      ],
      "metadata": {
        "id": "0mJPbSufywIJ",
        "outputId": "3a28713b-9a4a-4368-fe6b-d8befec538a6",
        "colab": {
          "base_uri": "https://localhost:8080/"
        }
      },
      "id": "0mJPbSufywIJ",
      "execution_count": 35,
      "outputs": [
        {
          "output_type": "execute_result",
          "data": {
            "text/plain": [
              "0.022647717967629433"
            ]
          },
          "metadata": {},
          "execution_count": 35
        }
      ]
    },
    {
      "cell_type": "code",
      "source": [
        "best_params=study.best_params\n",
        "best_params"
      ],
      "metadata": {
        "id": "X8MNLQ4vy35M",
        "outputId": "b54af241-6e79-4a62-8b53-4b27d3fb7383",
        "colab": {
          "base_uri": "https://localhost:8080/"
        }
      },
      "id": "X8MNLQ4vy35M",
      "execution_count": 40,
      "outputs": [
        {
          "output_type": "execute_result",
          "data": {
            "text/plain": [
              "{'num_hidden_layers': 4,\n",
              " 'neurons_per_layer': 128,\n",
              " 'epochs': 10,\n",
              " 'learning_rate': 0.002283261058215399,\n",
              " 'dropout_rate': 0.4,\n",
              " 'batch_size': 128,\n",
              " 'optimizer': 'Adam',\n",
              " 'weight_decay': 0.0005875036330183297}"
            ]
          },
          "metadata": {},
          "execution_count": 40
        }
      ]
    },
    {
      "cell_type": "code",
      "source": [
        "# Extract best hyperparameters\n",
        "num_hidden_layers = best_params['num_hidden_layers']\n",
        "neurons_per_layer = best_params['neurons_per_layer']\n",
        "dropout_rate = best_params['dropout_rate']\n",
        "learning_rate = best_params['learning_rate']\n",
        "weight_decay = best_params['weight_decay']\n",
        "batch_size = best_params['batch_size']\n",
        "optimizer_name = best_params['optimizer']\n",
        "epochs = best_params['epochs']\n",
        "\n",
        "# Recreate model\n",
        "input_dim = 7\n",
        "output_dim = 1\n",
        "model = MyNN(input_dim, output_dim, num_hidden_layers, neurons_per_layer, dropout_rate)\n",
        "model.to(device)\n"
      ],
      "metadata": {
        "id": "sKmbSGHW9TF6",
        "outputId": "0b63216e-403d-43d0-ef2b-99fc5e5a4997",
        "colab": {
          "base_uri": "https://localhost:8080/"
        }
      },
      "id": "sKmbSGHW9TF6",
      "execution_count": 38,
      "outputs": [
        {
          "output_type": "execute_result",
          "data": {
            "text/plain": [
              "MyNN(\n",
              "  (model): Sequential(\n",
              "    (0): Linear(in_features=7, out_features=128, bias=True)\n",
              "    (1): BatchNorm1d(128, eps=1e-05, momentum=0.1, affine=True, track_running_stats=True)\n",
              "    (2): ReLU()\n",
              "    (3): Dropout(p=0.4, inplace=False)\n",
              "    (4): Linear(in_features=128, out_features=128, bias=True)\n",
              "    (5): BatchNorm1d(128, eps=1e-05, momentum=0.1, affine=True, track_running_stats=True)\n",
              "    (6): ReLU()\n",
              "    (7): Dropout(p=0.4, inplace=False)\n",
              "    (8): Linear(in_features=128, out_features=128, bias=True)\n",
              "    (9): BatchNorm1d(128, eps=1e-05, momentum=0.1, affine=True, track_running_stats=True)\n",
              "    (10): ReLU()\n",
              "    (11): Dropout(p=0.4, inplace=False)\n",
              "    (12): Linear(in_features=128, out_features=128, bias=True)\n",
              "    (13): BatchNorm1d(128, eps=1e-05, momentum=0.1, affine=True, track_running_stats=True)\n",
              "    (14): ReLU()\n",
              "    (15): Dropout(p=0.4, inplace=False)\n",
              "    (16): Linear(in_features=128, out_features=1, bias=True)\n",
              "  )\n",
              ")"
            ]
          },
          "metadata": {},
          "execution_count": 38
        }
      ]
    },
    {
      "cell_type": "code",
      "source": [
        "batch_size=16\n",
        "train_loader = DataLoader(train_dataset, batch_size=batch_size, shuffle=True, pin_memory=True)\n",
        "test_loader = DataLoader(test_dataset, batch_size=batch_size, shuffle=False, pin_memory=True)"
      ],
      "metadata": {
        "id": "TIs3psxc-NF5"
      },
      "id": "TIs3psxc-NF5",
      "execution_count": 41,
      "outputs": []
    },
    {
      "cell_type": "code",
      "source": [
        "criterion = nn.MSELoss()\n",
        "\n",
        "if optimizer_name == 'Adam':\n",
        "    optimizer = optim.Adam(model.parameters(), lr=learning_rate, weight_decay=weight_decay)\n",
        "elif optimizer_name == 'SGD':\n",
        "    optimizer = optim.SGD(model.parameters(), lr=learning_rate, weight_decay=weight_decay)\n",
        "else:\n",
        "    optimizer = optim.RMSprop(model.parameters(), lr=learning_rate, weight_decay=weight_decay)\n"
      ],
      "metadata": {
        "id": "zPGWU6K1-T_s"
      },
      "id": "zPGWU6K1-T_s",
      "execution_count": 42,
      "outputs": []
    },
    {
      "cell_type": "code",
      "source": [
        "#Model Training\n",
        "train_losses = []\n",
        "test_losses = []\n",
        "\n",
        "for epoch in range(epochs):\n",
        "    model.train()\n",
        "    running_train_loss = 0.0\n",
        "    for X_batch, y_batch in train_loader:\n",
        "        X_batch, y_batch = X_batch.to(device), y_batch.to(device)\n",
        "        optimizer.zero_grad()\n",
        "        preds = model(X_batch).squeeze()\n",
        "        loss = criterion(preds, y_batch.float())\n",
        "        loss.backward()\n",
        "        optimizer.step()\n",
        "        running_train_loss += loss.item()\n",
        "\n",
        "    model.eval()\n",
        "    running_test_loss = 0.0\n",
        "    with torch.no_grad():\n",
        "        for X_test, y_test in test_loader:\n",
        "            X_test, y_test = X_test.to(device), y_test.to(device)\n",
        "            preds = model(X_test).squeeze()\n",
        "            loss = criterion(preds, y_test.float())\n",
        "            running_test_loss += loss.item()\n",
        "\n",
        "    train_losses.append(running_train_loss / len(train_loader))\n",
        "    test_losses.append(running_test_loss / len(test_loader))\n",
        "\n",
        "\n",
        "\n"
      ],
      "metadata": {
        "id": "3TgIrDjA-ZaA"
      },
      "id": "3TgIrDjA-ZaA",
      "execution_count": 45,
      "outputs": []
    },
    {
      "cell_type": "code",
      "source": [
        "plt.plot(train_losses, label='Train Loss')\n",
        "plt.plot(test_losses, label='Test Loss')\n",
        "plt.xlabel('Epochs')\n",
        "plt.ylabel('MSE Loss')\n",
        "plt.legend()\n",
        "plt.show()"
      ],
      "metadata": {
        "id": "fOWjKBOM-kOA",
        "outputId": "2883407d-dec3-4513-a8df-95a62db41afb",
        "colab": {
          "base_uri": "https://localhost:8080/",
          "height": 449
        }
      },
      "id": "fOWjKBOM-kOA",
      "execution_count": 46,
      "outputs": [
        {
          "output_type": "display_data",
          "data": {
            "text/plain": [
              "<Figure size 640x480 with 1 Axes>"
            ],
            "image/png": "[encoded data removed]"
          },
          "metadata": {}
        }
      ]
    }
  ],
  "metadata": {
    "kernelspec": {
      "display_name": "Python 3",
      "name": "python3"
    },
    "language_info": {
      "codemirror_mode": {
        "name": "ipython",
        "version": 3
      },
      "file_extension": ".py",
      "mimetype": "text/x-python",
      "name": "python",
      "nbconvert_exporter": "python",
      "pygments_lexer": "ipython3",
      "version": "3.12.10"
    },
    "colab": {
      "provenance": []
    }
  },
  "nbformat": 4,
  "nbformat_minor": 5
}