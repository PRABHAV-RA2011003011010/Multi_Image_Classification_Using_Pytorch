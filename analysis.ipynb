{
  "cells": [
    {
      "cell_type": "code",
      "execution_count": 3,
      "id": "38a21a4c",
      "metadata": {
        "vscode": {
          "languageId": "plaintext"
        },
        "id": "38a21a4c"
      },
      "outputs": [],
      "source": [
        "import zipfile\n",
        "with zipfile.ZipFile(\"fashion_mnist.zip\", \"r\") as zip_ref:\n",
        "    zip_ref.extractall(\"fashion_mnist\")\n"
      ]
    },
    {
      "cell_type": "code",
      "execution_count": 4,
      "id": "fd17ca3d",
      "metadata": {
        "vscode": {
          "languageId": "plaintext"
        },
        "id": "fd17ca3d"
      },
      "outputs": [],
      "source": [
        "import pandas as pd\n",
        "from sklearn.model_selection import train_test_split\n",
        "import torch\n",
        "from torch.utils.data import Dataset, DataLoader\n",
        "import torch.nn as nn\n",
        "import torch.optim as optim\n",
        "import matplotlib.pyplot as plt"
      ]
    },
    {
      "cell_type": "code",
      "source": [],
      "metadata": {
        "id": "flqYLPjyE3iU"
      },
      "id": "flqYLPjyE3iU",
      "execution_count": null,
      "outputs": []
    }
  ],
  "metadata": {
    "language_info": {
      "name": "python"
    },
    "colab": {
      "provenance": []
    },
    "kernelspec": {
      "name": "python3",
      "display_name": "Python 3"
    }
  },
  "nbformat": 4,
  "nbformat_minor": 5
}